{
 "cells": [
  {
   "cell_type": "markdown",
   "id": "92bfefa9",
   "metadata": {},
   "source": [
    "Q-12. A pharmaceutical company develops a new drug and wants to compare its effectiveness against a standard drug for treating a particular condition. They conduct a study with two groups: Group A receives the new drug, and Group B receives the standard drug. The company measures the improvement in a specific symptom for both groups after a 4-week treatment period. a. The company collects data from 30 patients in each group and calculates the mean improvement score and the standard deviation of improvement for each group. The mean improvement score for Group A is 2.5 with a standard deviation of 0.8, while the mean improvement score for Group B is 2.2 with a standard deviation of 0.6. Conduct a t-test to determine if there is a significant difference in the mean improvement scores between the two groups. Use a significance level of 0.05. b. Based on the t-test results, state whether the null hypothesis should be\n",
    "rejected or not. Provide a conclusion in the context of the study.\n"
   ]
  },
  {
   "cell_type": "code",
   "execution_count": 6,
   "id": "f459de60",
   "metadata": {},
   "outputs": [],
   "source": [
    "import scipy.stats as stats"
   ]
  },
  {
   "cell_type": "code",
   "execution_count": 9,
   "id": "13cf8866",
   "metadata": {},
   "outputs": [],
   "source": [
    "## Defining the data for Group A and Group B\n",
    "mean1 = 2.5\n",
    "std1= 0.8\n",
    "n1 = 30\n",
    "mean2 = 2.2\n",
    "std2 = 0.6\n",
    "n2 = 30\n",
    "\n"
   ]
  },
  {
   "cell_type": "code",
   "execution_count": 10,
   "id": "45c5b975",
   "metadata": {},
   "outputs": [
    {
     "name": "stdout",
     "output_type": "stream",
     "text": [
      "t-statistic = 1.6431676725154976\n",
      "p-value = 0.10575916705583671\n",
      "We fail to reject the null hypothesis.\n"
     ]
    }
   ],
   "source": [
    "t_stat, p_value = stats.ttest_ind_from_stats(mean1, std1, n1, mean2, std2, n2)\n",
    "\n",
    "print(\"t-statistic =\", t_stat)\n",
    "print(\"p-value =\", p_value)\n",
    "\n",
    "if p_value < 0.05:\n",
    "    print(\"We reject the null hypothesis.\")\n",
    "else:\n",
    "    print(\"We fail to reject the null hypothesis.\")"
   ]
  },
  {
   "cell_type": "markdown",
   "id": "10526167",
   "metadata": {},
   "source": [
    "This means that there is not enough evidence to conclude that there is a significant difference in the mean improvement scores between Group A and Group B."
   ]
  },
  {
   "cell_type": "markdown",
   "id": "edb36cc9",
   "metadata": {},
   "source": [
    "#### So, we can say that the new drug is more effective than the standard drug for treating the particular condition."
   ]
  },
  {
   "cell_type": "code",
   "execution_count": null,
   "id": "a56b3c19",
   "metadata": {},
   "outputs": [],
   "source": []
  }
 ],
 "metadata": {
  "kernelspec": {
   "display_name": "Python 3 (ipykernel)",
   "language": "python",
   "name": "python3"
  },
  "language_info": {
   "codemirror_mode": {
    "name": "ipython",
    "version": 3
   },
   "file_extension": ".py",
   "mimetype": "text/x-python",
   "name": "python",
   "nbconvert_exporter": "python",
   "pygments_lexer": "ipython3",
   "version": "3.9.7"
  }
 },
 "nbformat": 4,
 "nbformat_minor": 5
}
