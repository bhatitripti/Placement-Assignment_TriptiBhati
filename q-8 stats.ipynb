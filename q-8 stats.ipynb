{
 "cells": [
  {
   "cell_type": "markdown",
   "id": "fcc3f66b",
   "metadata": {},
   "source": [
    "Q-8. The anxiety levels of 10 participants were measured before and after a new therapy. The scores are not normally distributed. Use the Wilcoxon signed-rank test to test whether the therapy had a significant effect on anxiety levels. The data is given below: Participant\n",
    "Before therapy After therapy Difference"
   ]
  },
  {
   "cell_type": "code",
   "execution_count": 1,
   "id": "4c173e53",
   "metadata": {},
   "outputs": [],
   "source": [
    "import pandas as pd"
   ]
  },
  {
   "cell_type": "code",
   "execution_count": 2,
   "id": "e46f6e2d",
   "metadata": {},
   "outputs": [],
   "source": [
    "data = {\n",
    "    'Participant': [1, 2, 3, 4, 5,6,7,8,9,10],\n",
    "    'Before therapy': [10, 8, 12, 15, 6,9,11,7,14,10],\n",
    "    'After therapy': [7, 6, 10, 12, 5,8,9,6,12,8],\n",
    "    'Difference': [-3, -2, -2, -3, -1,-1,-2,-1,-2,-2]\n",
    "}\n",
    "df = pd.DataFrame(data)"
   ]
  },
  {
   "cell_type": "code",
   "execution_count": 3,
   "id": "cd738b51",
   "metadata": {},
   "outputs": [],
   "source": [
    "from scipy.stats import wilcoxon"
   ]
  },
  {
   "cell_type": "code",
   "execution_count": 4,
   "id": "23f1eb7d",
   "metadata": {},
   "outputs": [
    {
     "name": "stdout",
     "output_type": "stream",
     "text": [
      "p-value: 0.001953125\n",
      "Significant effect of therapy on anxiety levels\n"
     ]
    }
   ],
   "source": [
    "statistic, p_value = wilcoxon(df['Difference'])\n",
    "\n",
    "print(\"p-value:\", p_value)\n",
    "\n",
    "alpha = 0.05\n",
    "if p_value < alpha:\n",
    "    print(\"Significant effect of therapy on anxiety levels\")\n",
    "else:\n",
    "    print(\"No significant effect of therapy on anxiety levels\")"
   ]
  },
  {
   "cell_type": "code",
   "execution_count": null,
   "id": "8b627450",
   "metadata": {},
   "outputs": [],
   "source": []
  }
 ],
 "metadata": {
  "kernelspec": {
   "display_name": "Python 3 (ipykernel)",
   "language": "python",
   "name": "python3"
  },
  "language_info": {
   "codemirror_mode": {
    "name": "ipython",
    "version": 3
   },
   "file_extension": ".py",
   "mimetype": "text/x-python",
   "name": "python",
   "nbconvert_exporter": "python",
   "pygments_lexer": "ipython3",
   "version": "3.9.7"
  }
 },
 "nbformat": 4,
 "nbformat_minor": 5
}
