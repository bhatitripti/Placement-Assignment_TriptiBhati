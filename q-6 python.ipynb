{
 "cells": [
  {
   "cell_type": "markdown",
   "id": "06b2319d",
   "metadata": {},
   "source": [
    "Question 6 Using the data from Question 3, write code to analyze the data and answer the following questions \n",
    "Note \n",
    "1. Draw plots to demonstrate the analysis for the following questions for better visualizations.\n",
    "2. Write code comments wherever required for code understanding\n",
    "Insights to be drawn -\n",
    "● Get all Pokemons whose spawn rate is less than 5% \n",
    "● Get all Pokemons that have less than 4 weaknesses \n",
    "● Get all Pokemons that have no multipliers at all \n",
    "● Get all Pokemons that do not have more than 2 evolutions\n",
    "● Get all Pokemons whose spawn time is less than 300 seconds.\n",
    "Note - spawn time format is \"05:32”, so assume “minute: second” format and perform the analysis.\n",
    "● Get all Pokemon who have more than two types of capabilities"
   ]
  },
  {
   "cell_type": "code",
   "execution_count": 1,
   "id": "aec7c16f",
   "metadata": {},
   "outputs": [],
   "source": [
    "import pandas as pd\n",
    "import json\n",
    "import matplotlib.pyplot as plt\n",
    "%matplotlib inline\n",
    "import seaborn as sns\n",
    "import numpy as np\n"
   ]
  },
  {
   "cell_type": "code",
   "execution_count": 2,
   "id": "d06208f3",
   "metadata": {},
   "outputs": [],
   "source": [
    "#loading the json file\n",
    "with open('pokedex.json') as j:\n",
    "     json_data = json.load(j)\n",
    "# Extracting the data array \n",
    "data_array = json_data[\"pokemon\"]\n",
    "\n",
    "# Converting into DataFrame\n",
    "df = pd.DataFrame(data_array)\n",
    "#df.drop([\"id\", \"num\"],axis=1, inplace=True )"
   ]
  },
  {
   "cell_type": "code",
   "execution_count": 3,
   "id": "4d328190",
   "metadata": {
    "scrolled": false
   },
   "outputs": [
    {
     "data": {
      "text/html": [
       "<div>\n",
       "<style scoped>\n",
       "    .dataframe tbody tr th:only-of-type {\n",
       "        vertical-align: middle;\n",
       "    }\n",
       "\n",
       "    .dataframe tbody tr th {\n",
       "        vertical-align: top;\n",
       "    }\n",
       "\n",
       "    .dataframe thead th {\n",
       "        text-align: right;\n",
       "    }\n",
       "</style>\n",
       "<table border=\"1\" class=\"dataframe\">\n",
       "  <thead>\n",
       "    <tr style=\"text-align: right;\">\n",
       "      <th></th>\n",
       "      <th>id</th>\n",
       "      <th>num</th>\n",
       "      <th>name</th>\n",
       "      <th>img</th>\n",
       "      <th>type</th>\n",
       "      <th>height</th>\n",
       "      <th>weight</th>\n",
       "      <th>candy</th>\n",
       "      <th>candy_count</th>\n",
       "      <th>egg</th>\n",
       "      <th>spawn_chance</th>\n",
       "      <th>avg_spawns</th>\n",
       "      <th>spawn_time</th>\n",
       "      <th>multipliers</th>\n",
       "      <th>weaknesses</th>\n",
       "      <th>next_evolution</th>\n",
       "      <th>prev_evolution</th>\n",
       "    </tr>\n",
       "  </thead>\n",
       "  <tbody>\n",
       "    <tr>\n",
       "      <th>0</th>\n",
       "      <td>1</td>\n",
       "      <td>001</td>\n",
       "      <td>Bulbasaur</td>\n",
       "      <td>http://www.serebii.net/pokemongo/pokemon/001.png</td>\n",
       "      <td>[Grass, Poison]</td>\n",
       "      <td>0.71 m</td>\n",
       "      <td>6.9 kg</td>\n",
       "      <td>Bulbasaur Candy</td>\n",
       "      <td>25.0</td>\n",
       "      <td>2 km</td>\n",
       "      <td>0.6900</td>\n",
       "      <td>69.00</td>\n",
       "      <td>20:00</td>\n",
       "      <td>[1.58]</td>\n",
       "      <td>[Fire, Ice, Flying, Psychic]</td>\n",
       "      <td>[{'num': '002', 'name': 'Ivysaur'}, {'num': '0...</td>\n",
       "      <td>NaN</td>\n",
       "    </tr>\n",
       "    <tr>\n",
       "      <th>1</th>\n",
       "      <td>2</td>\n",
       "      <td>002</td>\n",
       "      <td>Ivysaur</td>\n",
       "      <td>http://www.serebii.net/pokemongo/pokemon/002.png</td>\n",
       "      <td>[Grass, Poison]</td>\n",
       "      <td>0.99 m</td>\n",
       "      <td>13.0 kg</td>\n",
       "      <td>Bulbasaur Candy</td>\n",
       "      <td>100.0</td>\n",
       "      <td>Not in Eggs</td>\n",
       "      <td>0.0420</td>\n",
       "      <td>4.20</td>\n",
       "      <td>07:00</td>\n",
       "      <td>[1.2, 1.6]</td>\n",
       "      <td>[Fire, Ice, Flying, Psychic]</td>\n",
       "      <td>[{'num': '003', 'name': 'Venusaur'}]</td>\n",
       "      <td>[{'num': '001', 'name': 'Bulbasaur'}]</td>\n",
       "    </tr>\n",
       "    <tr>\n",
       "      <th>2</th>\n",
       "      <td>3</td>\n",
       "      <td>003</td>\n",
       "      <td>Venusaur</td>\n",
       "      <td>http://www.serebii.net/pokemongo/pokemon/003.png</td>\n",
       "      <td>[Grass, Poison]</td>\n",
       "      <td>2.01 m</td>\n",
       "      <td>100.0 kg</td>\n",
       "      <td>Bulbasaur Candy</td>\n",
       "      <td>NaN</td>\n",
       "      <td>Not in Eggs</td>\n",
       "      <td>0.0170</td>\n",
       "      <td>1.70</td>\n",
       "      <td>11:30</td>\n",
       "      <td>None</td>\n",
       "      <td>[Fire, Ice, Flying, Psychic]</td>\n",
       "      <td>NaN</td>\n",
       "      <td>[{'num': '001', 'name': 'Bulbasaur'}, {'num': ...</td>\n",
       "    </tr>\n",
       "    <tr>\n",
       "      <th>3</th>\n",
       "      <td>4</td>\n",
       "      <td>004</td>\n",
       "      <td>Charmander</td>\n",
       "      <td>http://www.serebii.net/pokemongo/pokemon/004.png</td>\n",
       "      <td>[Fire]</td>\n",
       "      <td>0.61 m</td>\n",
       "      <td>8.5 kg</td>\n",
       "      <td>Charmander Candy</td>\n",
       "      <td>25.0</td>\n",
       "      <td>2 km</td>\n",
       "      <td>0.2530</td>\n",
       "      <td>25.30</td>\n",
       "      <td>08:45</td>\n",
       "      <td>[1.65]</td>\n",
       "      <td>[Water, Ground, Rock]</td>\n",
       "      <td>[{'num': '005', 'name': 'Charmeleon'}, {'num':...</td>\n",
       "      <td>NaN</td>\n",
       "    </tr>\n",
       "    <tr>\n",
       "      <th>4</th>\n",
       "      <td>5</td>\n",
       "      <td>005</td>\n",
       "      <td>Charmeleon</td>\n",
       "      <td>http://www.serebii.net/pokemongo/pokemon/005.png</td>\n",
       "      <td>[Fire]</td>\n",
       "      <td>1.09 m</td>\n",
       "      <td>19.0 kg</td>\n",
       "      <td>Charmander Candy</td>\n",
       "      <td>100.0</td>\n",
       "      <td>Not in Eggs</td>\n",
       "      <td>0.0120</td>\n",
       "      <td>1.20</td>\n",
       "      <td>19:00</td>\n",
       "      <td>[1.79]</td>\n",
       "      <td>[Water, Ground, Rock]</td>\n",
       "      <td>[{'num': '006', 'name': 'Charizard'}]</td>\n",
       "      <td>[{'num': '004', 'name': 'Charmander'}]</td>\n",
       "    </tr>\n",
       "    <tr>\n",
       "      <th>...</th>\n",
       "      <td>...</td>\n",
       "      <td>...</td>\n",
       "      <td>...</td>\n",
       "      <td>...</td>\n",
       "      <td>...</td>\n",
       "      <td>...</td>\n",
       "      <td>...</td>\n",
       "      <td>...</td>\n",
       "      <td>...</td>\n",
       "      <td>...</td>\n",
       "      <td>...</td>\n",
       "      <td>...</td>\n",
       "      <td>...</td>\n",
       "      <td>...</td>\n",
       "      <td>...</td>\n",
       "      <td>...</td>\n",
       "      <td>...</td>\n",
       "    </tr>\n",
       "    <tr>\n",
       "      <th>146</th>\n",
       "      <td>147</td>\n",
       "      <td>147</td>\n",
       "      <td>Dratini</td>\n",
       "      <td>http://www.serebii.net/pokemongo/pokemon/147.png</td>\n",
       "      <td>[Dragon]</td>\n",
       "      <td>1.80 m</td>\n",
       "      <td>3.3 kg</td>\n",
       "      <td>Dratini Candy</td>\n",
       "      <td>25.0</td>\n",
       "      <td>10 km</td>\n",
       "      <td>0.3000</td>\n",
       "      <td>30.00</td>\n",
       "      <td>06:41</td>\n",
       "      <td>[1.83, 1.84]</td>\n",
       "      <td>[Ice, Dragon, Fairy]</td>\n",
       "      <td>[{'num': '148', 'name': 'Dragonair'}, {'num': ...</td>\n",
       "      <td>NaN</td>\n",
       "    </tr>\n",
       "    <tr>\n",
       "      <th>147</th>\n",
       "      <td>148</td>\n",
       "      <td>148</td>\n",
       "      <td>Dragonair</td>\n",
       "      <td>http://www.serebii.net/pokemongo/pokemon/148.png</td>\n",
       "      <td>[Dragon]</td>\n",
       "      <td>3.99 m</td>\n",
       "      <td>16.5 kg</td>\n",
       "      <td>Dratini Candy</td>\n",
       "      <td>100.0</td>\n",
       "      <td>Not in Eggs</td>\n",
       "      <td>0.0200</td>\n",
       "      <td>2.00</td>\n",
       "      <td>11:57</td>\n",
       "      <td>[2.05]</td>\n",
       "      <td>[Ice, Dragon, Fairy]</td>\n",
       "      <td>[{'num': '149', 'name': 'Dragonite'}]</td>\n",
       "      <td>[{'num': '147', 'name': 'Dratini'}]</td>\n",
       "    </tr>\n",
       "    <tr>\n",
       "      <th>148</th>\n",
       "      <td>149</td>\n",
       "      <td>149</td>\n",
       "      <td>Dragonite</td>\n",
       "      <td>http://www.serebii.net/pokemongo/pokemon/149.png</td>\n",
       "      <td>[Dragon, Flying]</td>\n",
       "      <td>2.21 m</td>\n",
       "      <td>210.0 kg</td>\n",
       "      <td>Dratini Candy</td>\n",
       "      <td>NaN</td>\n",
       "      <td>Not in Eggs</td>\n",
       "      <td>0.0011</td>\n",
       "      <td>0.11</td>\n",
       "      <td>23:38</td>\n",
       "      <td>None</td>\n",
       "      <td>[Ice, Rock, Dragon, Fairy]</td>\n",
       "      <td>NaN</td>\n",
       "      <td>[{'num': '147', 'name': 'Dratini'}, {'num': '1...</td>\n",
       "    </tr>\n",
       "    <tr>\n",
       "      <th>149</th>\n",
       "      <td>150</td>\n",
       "      <td>150</td>\n",
       "      <td>Mewtwo</td>\n",
       "      <td>http://www.serebii.net/pokemongo/pokemon/150.png</td>\n",
       "      <td>[Psychic]</td>\n",
       "      <td>2.01 m</td>\n",
       "      <td>122.0 kg</td>\n",
       "      <td>None</td>\n",
       "      <td>NaN</td>\n",
       "      <td>Not in Eggs</td>\n",
       "      <td>0.0000</td>\n",
       "      <td>0.00</td>\n",
       "      <td>N/A</td>\n",
       "      <td>None</td>\n",
       "      <td>[Bug, Ghost, Dark]</td>\n",
       "      <td>NaN</td>\n",
       "      <td>NaN</td>\n",
       "    </tr>\n",
       "    <tr>\n",
       "      <th>150</th>\n",
       "      <td>151</td>\n",
       "      <td>151</td>\n",
       "      <td>Mew</td>\n",
       "      <td>http://www.serebii.net/pokemongo/pokemon/151.png</td>\n",
       "      <td>[Psychic]</td>\n",
       "      <td>0.41 m</td>\n",
       "      <td>4.0 kg</td>\n",
       "      <td>None</td>\n",
       "      <td>NaN</td>\n",
       "      <td>Not in Eggs</td>\n",
       "      <td>0.0000</td>\n",
       "      <td>0.00</td>\n",
       "      <td>N/A</td>\n",
       "      <td>None</td>\n",
       "      <td>[Bug, Ghost, Dark]</td>\n",
       "      <td>NaN</td>\n",
       "      <td>NaN</td>\n",
       "    </tr>\n",
       "  </tbody>\n",
       "</table>\n",
       "<p>151 rows × 17 columns</p>\n",
       "</div>"
      ],
      "text/plain": [
       "      id  num        name                                               img  \\\n",
       "0      1  001   Bulbasaur  http://www.serebii.net/pokemongo/pokemon/001.png   \n",
       "1      2  002     Ivysaur  http://www.serebii.net/pokemongo/pokemon/002.png   \n",
       "2      3  003    Venusaur  http://www.serebii.net/pokemongo/pokemon/003.png   \n",
       "3      4  004  Charmander  http://www.serebii.net/pokemongo/pokemon/004.png   \n",
       "4      5  005  Charmeleon  http://www.serebii.net/pokemongo/pokemon/005.png   \n",
       "..   ...  ...         ...                                               ...   \n",
       "146  147  147     Dratini  http://www.serebii.net/pokemongo/pokemon/147.png   \n",
       "147  148  148   Dragonair  http://www.serebii.net/pokemongo/pokemon/148.png   \n",
       "148  149  149   Dragonite  http://www.serebii.net/pokemongo/pokemon/149.png   \n",
       "149  150  150      Mewtwo  http://www.serebii.net/pokemongo/pokemon/150.png   \n",
       "150  151  151         Mew  http://www.serebii.net/pokemongo/pokemon/151.png   \n",
       "\n",
       "                 type  height    weight             candy  candy_count  \\\n",
       "0     [Grass, Poison]  0.71 m    6.9 kg   Bulbasaur Candy         25.0   \n",
       "1     [Grass, Poison]  0.99 m   13.0 kg   Bulbasaur Candy        100.0   \n",
       "2     [Grass, Poison]  2.01 m  100.0 kg   Bulbasaur Candy          NaN   \n",
       "3              [Fire]  0.61 m    8.5 kg  Charmander Candy         25.0   \n",
       "4              [Fire]  1.09 m   19.0 kg  Charmander Candy        100.0   \n",
       "..                ...     ...       ...               ...          ...   \n",
       "146          [Dragon]  1.80 m    3.3 kg     Dratini Candy         25.0   \n",
       "147          [Dragon]  3.99 m   16.5 kg     Dratini Candy        100.0   \n",
       "148  [Dragon, Flying]  2.21 m  210.0 kg     Dratini Candy          NaN   \n",
       "149         [Psychic]  2.01 m  122.0 kg              None          NaN   \n",
       "150         [Psychic]  0.41 m    4.0 kg              None          NaN   \n",
       "\n",
       "             egg  spawn_chance  avg_spawns spawn_time   multipliers  \\\n",
       "0           2 km        0.6900       69.00      20:00        [1.58]   \n",
       "1    Not in Eggs        0.0420        4.20      07:00    [1.2, 1.6]   \n",
       "2    Not in Eggs        0.0170        1.70      11:30          None   \n",
       "3           2 km        0.2530       25.30      08:45        [1.65]   \n",
       "4    Not in Eggs        0.0120        1.20      19:00        [1.79]   \n",
       "..           ...           ...         ...        ...           ...   \n",
       "146        10 km        0.3000       30.00      06:41  [1.83, 1.84]   \n",
       "147  Not in Eggs        0.0200        2.00      11:57        [2.05]   \n",
       "148  Not in Eggs        0.0011        0.11      23:38          None   \n",
       "149  Not in Eggs        0.0000        0.00        N/A          None   \n",
       "150  Not in Eggs        0.0000        0.00        N/A          None   \n",
       "\n",
       "                       weaknesses  \\\n",
       "0    [Fire, Ice, Flying, Psychic]   \n",
       "1    [Fire, Ice, Flying, Psychic]   \n",
       "2    [Fire, Ice, Flying, Psychic]   \n",
       "3           [Water, Ground, Rock]   \n",
       "4           [Water, Ground, Rock]   \n",
       "..                            ...   \n",
       "146          [Ice, Dragon, Fairy]   \n",
       "147          [Ice, Dragon, Fairy]   \n",
       "148    [Ice, Rock, Dragon, Fairy]   \n",
       "149            [Bug, Ghost, Dark]   \n",
       "150            [Bug, Ghost, Dark]   \n",
       "\n",
       "                                        next_evolution  \\\n",
       "0    [{'num': '002', 'name': 'Ivysaur'}, {'num': '0...   \n",
       "1                 [{'num': '003', 'name': 'Venusaur'}]   \n",
       "2                                                  NaN   \n",
       "3    [{'num': '005', 'name': 'Charmeleon'}, {'num':...   \n",
       "4                [{'num': '006', 'name': 'Charizard'}]   \n",
       "..                                                 ...   \n",
       "146  [{'num': '148', 'name': 'Dragonair'}, {'num': ...   \n",
       "147              [{'num': '149', 'name': 'Dragonite'}]   \n",
       "148                                                NaN   \n",
       "149                                                NaN   \n",
       "150                                                NaN   \n",
       "\n",
       "                                        prev_evolution  \n",
       "0                                                  NaN  \n",
       "1                [{'num': '001', 'name': 'Bulbasaur'}]  \n",
       "2    [{'num': '001', 'name': 'Bulbasaur'}, {'num': ...  \n",
       "3                                                  NaN  \n",
       "4               [{'num': '004', 'name': 'Charmander'}]  \n",
       "..                                                 ...  \n",
       "146                                                NaN  \n",
       "147                [{'num': '147', 'name': 'Dratini'}]  \n",
       "148  [{'num': '147', 'name': 'Dratini'}, {'num': '1...  \n",
       "149                                                NaN  \n",
       "150                                                NaN  \n",
       "\n",
       "[151 rows x 17 columns]"
      ]
     },
     "execution_count": 3,
     "metadata": {},
     "output_type": "execute_result"
    }
   ],
   "source": [
    "df"
   ]
  },
  {
   "cell_type": "code",
   "execution_count": 21,
   "id": "761eb5c8",
   "metadata": {},
   "outputs": [
    {
     "data": {
      "text/html": [
       "<div>\n",
       "<style scoped>\n",
       "    .dataframe tbody tr th:only-of-type {\n",
       "        vertical-align: middle;\n",
       "    }\n",
       "\n",
       "    .dataframe tbody tr th {\n",
       "        vertical-align: top;\n",
       "    }\n",
       "\n",
       "    .dataframe thead th {\n",
       "        text-align: right;\n",
       "    }\n",
       "</style>\n",
       "<table border=\"1\" class=\"dataframe\">\n",
       "  <thead>\n",
       "    <tr style=\"text-align: right;\">\n",
       "      <th></th>\n",
       "      <th>id</th>\n",
       "      <th>candy_count</th>\n",
       "      <th>spawn_chance</th>\n",
       "      <th>avg_spawns</th>\n",
       "      <th>count</th>\n",
       "      <th>seconds</th>\n",
       "    </tr>\n",
       "  </thead>\n",
       "  <tbody>\n",
       "    <tr>\n",
       "      <th>count</th>\n",
       "      <td>151.000000</td>\n",
       "      <td>70.000000</td>\n",
       "      <td>151.000000</td>\n",
       "      <td>151.000000</td>\n",
       "      <td>151.000000</td>\n",
       "      <td>151.000000</td>\n",
       "    </tr>\n",
       "    <tr>\n",
       "      <th>mean</th>\n",
       "      <td>76.000000</td>\n",
       "      <td>57.300000</td>\n",
       "      <td>0.731985</td>\n",
       "      <td>53.992603</td>\n",
       "      <td>1.165563</td>\n",
       "      <td>25799.602649</td>\n",
       "    </tr>\n",
       "    <tr>\n",
       "      <th>std</th>\n",
       "      <td>43.734045</td>\n",
       "      <td>48.897512</td>\n",
       "      <td>1.956376</td>\n",
       "      <td>111.156064</td>\n",
       "      <td>0.696950</td>\n",
       "      <td>23346.232069</td>\n",
       "    </tr>\n",
       "    <tr>\n",
       "      <th>min</th>\n",
       "      <td>1.000000</td>\n",
       "      <td>12.000000</td>\n",
       "      <td>0.000000</td>\n",
       "      <td>0.000000</td>\n",
       "      <td>0.000000</td>\n",
       "      <td>0.000000</td>\n",
       "    </tr>\n",
       "    <tr>\n",
       "      <th>25%</th>\n",
       "      <td>38.500000</td>\n",
       "      <td>31.250000</td>\n",
       "      <td>0.015500</td>\n",
       "      <td>1.450000</td>\n",
       "      <td>1.000000</td>\n",
       "      <td>8760.000000</td>\n",
       "    </tr>\n",
       "    <tr>\n",
       "      <th>50%</th>\n",
       "      <td>76.000000</td>\n",
       "      <td>50.000000</td>\n",
       "      <td>0.074000</td>\n",
       "      <td>7.200000</td>\n",
       "      <td>1.000000</td>\n",
       "      <td>16080.000000</td>\n",
       "    </tr>\n",
       "    <tr>\n",
       "      <th>75%</th>\n",
       "      <td>113.500000</td>\n",
       "      <td>50.000000</td>\n",
       "      <td>0.620000</td>\n",
       "      <td>55.000000</td>\n",
       "      <td>2.000000</td>\n",
       "      <td>41490.000000</td>\n",
       "    </tr>\n",
       "    <tr>\n",
       "      <th>max</th>\n",
       "      <td>151.000000</td>\n",
       "      <td>400.000000</td>\n",
       "      <td>15.980000</td>\n",
       "      <td>712.000000</td>\n",
       "      <td>3.000000</td>\n",
       "      <td>86280.000000</td>\n",
       "    </tr>\n",
       "  </tbody>\n",
       "</table>\n",
       "</div>"
      ],
      "text/plain": [
       "               id  candy_count  spawn_chance  avg_spawns       count  \\\n",
       "count  151.000000    70.000000    151.000000  151.000000  151.000000   \n",
       "mean    76.000000    57.300000      0.731985   53.992603    1.165563   \n",
       "std     43.734045    48.897512      1.956376  111.156064    0.696950   \n",
       "min      1.000000    12.000000      0.000000    0.000000    0.000000   \n",
       "25%     38.500000    31.250000      0.015500    1.450000    1.000000   \n",
       "50%     76.000000    50.000000      0.074000    7.200000    1.000000   \n",
       "75%    113.500000    50.000000      0.620000   55.000000    2.000000   \n",
       "max    151.000000   400.000000     15.980000  712.000000    3.000000   \n",
       "\n",
       "            seconds  \n",
       "count    151.000000  \n",
       "mean   25799.602649  \n",
       "std    23346.232069  \n",
       "min        0.000000  \n",
       "25%     8760.000000  \n",
       "50%    16080.000000  \n",
       "75%    41490.000000  \n",
       "max    86280.000000  "
      ]
     },
     "execution_count": 21,
     "metadata": {},
     "output_type": "execute_result"
    }
   ],
   "source": [
    "df.describe()"
   ]
  },
  {
   "cell_type": "code",
   "execution_count": 23,
   "id": "f9d357d2",
   "metadata": {},
   "outputs": [
    {
     "data": {
      "application/vnd.plotly.v1+json": {
       "config": {
        "plotlyServerURL": "https://plot.ly"
       },
       "data": [
        {
         "alignmentgroup": "True",
         "bingroup": "x",
         "hovertemplate": "spawn_chance=%{x}<br>count=%{y}<extra></extra>",
         "legendgroup": "",
         "marker": {
          "color": "#636efa",
          "pattern": {
           "shape": ""
          }
         },
         "name": "",
         "nbinsx": 30,
         "offsetgroup": "",
         "orientation": "v",
         "showlegend": false,
         "type": "histogram",
         "x": [
          0.69,
          0.042,
          0.017,
          0.253,
          0.012,
          0.0031,
          0.58,
          0.034,
          0.0067,
          3.032,
          0.187,
          0.022,
          7.12,
          0.44,
          0.051,
          15.98,
          1.02,
          0.13,
          13.05,
          0.41,
          4.73,
          0.15,
          2.27,
          0.072,
          0.21,
          0.0076,
          1.11,
          0.037,
          1.38,
          0.088,
          0.012,
          1.31,
          0.083,
          0.017,
          0.92,
          0.012,
          0.22,
          0.0077,
          0.39,
          0.018,
          6.52,
          0.42,
          1.02,
          0.064,
          0.0097,
          2.36,
          0.074,
          2.28,
          0.072,
          0.4,
          0.014,
          0.86,
          0.022,
          2.54,
          0.087,
          0.92,
          0.031,
          0.92,
          0.017,
          2.19,
          0.13,
          0.011,
          0.42,
          0.027,
          0.0073,
          0.49,
          0.034,
          0.0068,
          1.15,
          0.072,
          0.0059,
          0.81,
          0.082,
          1.19,
          0.071,
          0.0047,
          0.51,
          0.011,
          1.05,
          0.036,
          0.71,
          0.023,
          0.0212,
          0.52,
          0.22,
          0.28,
          0.013,
          0.052,
          0.0031,
          0.52,
          0.015,
          0.79,
          0.052,
          0.0067,
          0.1,
          3.21,
          0.1,
          2.12,
          0.062,
          0.65,
          0.02,
          0.78,
          0.014,
          0.61,
          0.02,
          0.02,
          0.022,
          0.011,
          0.2,
          0.016,
          0.63,
          0.022,
          0.013,
          0.228,
          0.0086,
          1.13,
          0.034,
          2.18,
          0.08,
          1.95,
          0.034,
          0.0031,
          0.14,
          0.35,
          0.074,
          0.1,
          0.99,
          0.12,
          4.78,
          0.0032,
          0.006,
          0,
          2.75,
          0.014,
          0.012,
          0.017,
          0.012,
          0.14,
          0.0061,
          0.1,
          0.0032,
          0.018,
          0.016,
          0,
          0,
          0,
          0.3,
          0.02,
          0.0011,
          0,
          0
         ],
         "xaxis": "x",
         "yaxis": "y"
        }
       ],
       "layout": {
        "barmode": "relative",
        "legend": {
         "tracegroupgap": 0
        },
        "margin": {
         "t": 60
        },
        "template": {
         "data": {
          "bar": [
           {
            "error_x": {
             "color": "#2a3f5f"
            },
            "error_y": {
             "color": "#2a3f5f"
            },
            "marker": {
             "line": {
              "color": "#E5ECF6",
              "width": 0.5
             },
             "pattern": {
              "fillmode": "overlay",
              "size": 10,
              "solidity": 0.2
             }
            },
            "type": "bar"
           }
          ],
          "barpolar": [
           {
            "marker": {
             "line": {
              "color": "#E5ECF6",
              "width": 0.5
             },
             "pattern": {
              "fillmode": "overlay",
              "size": 10,
              "solidity": 0.2
             }
            },
            "type": "barpolar"
           }
          ],
          "carpet": [
           {
            "aaxis": {
             "endlinecolor": "#2a3f5f",
             "gridcolor": "white",
             "linecolor": "white",
             "minorgridcolor": "white",
             "startlinecolor": "#2a3f5f"
            },
            "baxis": {
             "endlinecolor": "#2a3f5f",
             "gridcolor": "white",
             "linecolor": "white",
             "minorgridcolor": "white",
             "startlinecolor": "#2a3f5f"
            },
            "type": "carpet"
           }
          ],
          "choropleth": [
           {
            "colorbar": {
             "outlinewidth": 0,
             "ticks": ""
            },
            "type": "choropleth"
           }
          ],
          "contour": [
           {
            "colorbar": {
             "outlinewidth": 0,
             "ticks": ""
            },
            "colorscale": [
             [
              0,
              "#0d0887"
             ],
             [
              0.1111111111111111,
              "#46039f"
             ],
             [
              0.2222222222222222,
              "#7201a8"
             ],
             [
              0.3333333333333333,
              "#9c179e"
             ],
             [
              0.4444444444444444,
              "#bd3786"
             ],
             [
              0.5555555555555556,
              "#d8576b"
             ],
             [
              0.6666666666666666,
              "#ed7953"
             ],
             [
              0.7777777777777778,
              "#fb9f3a"
             ],
             [
              0.8888888888888888,
              "#fdca26"
             ],
             [
              1,
              "#f0f921"
             ]
            ],
            "type": "contour"
           }
          ],
          "contourcarpet": [
           {
            "colorbar": {
             "outlinewidth": 0,
             "ticks": ""
            },
            "type": "contourcarpet"
           }
          ],
          "heatmap": [
           {
            "colorbar": {
             "outlinewidth": 0,
             "ticks": ""
            },
            "colorscale": [
             [
              0,
              "#0d0887"
             ],
             [
              0.1111111111111111,
              "#46039f"
             ],
             [
              0.2222222222222222,
              "#7201a8"
             ],
             [
              0.3333333333333333,
              "#9c179e"
             ],
             [
              0.4444444444444444,
              "#bd3786"
             ],
             [
              0.5555555555555556,
              "#d8576b"
             ],
             [
              0.6666666666666666,
              "#ed7953"
             ],
             [
              0.7777777777777778,
              "#fb9f3a"
             ],
             [
              0.8888888888888888,
              "#fdca26"
             ],
             [
              1,
              "#f0f921"
             ]
            ],
            "type": "heatmap"
           }
          ],
          "heatmapgl": [
           {
            "colorbar": {
             "outlinewidth": 0,
             "ticks": ""
            },
            "colorscale": [
             [
              0,
              "#0d0887"
             ],
             [
              0.1111111111111111,
              "#46039f"
             ],
             [
              0.2222222222222222,
              "#7201a8"
             ],
             [
              0.3333333333333333,
              "#9c179e"
             ],
             [
              0.4444444444444444,
              "#bd3786"
             ],
             [
              0.5555555555555556,
              "#d8576b"
             ],
             [
              0.6666666666666666,
              "#ed7953"
             ],
             [
              0.7777777777777778,
              "#fb9f3a"
             ],
             [
              0.8888888888888888,
              "#fdca26"
             ],
             [
              1,
              "#f0f921"
             ]
            ],
            "type": "heatmapgl"
           }
          ],
          "histogram": [
           {
            "marker": {
             "pattern": {
              "fillmode": "overlay",
              "size": 10,
              "solidity": 0.2
             }
            },
            "type": "histogram"
           }
          ],
          "histogram2d": [
           {
            "colorbar": {
             "outlinewidth": 0,
             "ticks": ""
            },
            "colorscale": [
             [
              0,
              "#0d0887"
             ],
             [
              0.1111111111111111,
              "#46039f"
             ],
             [
              0.2222222222222222,
              "#7201a8"
             ],
             [
              0.3333333333333333,
              "#9c179e"
             ],
             [
              0.4444444444444444,
              "#bd3786"
             ],
             [
              0.5555555555555556,
              "#d8576b"
             ],
             [
              0.6666666666666666,
              "#ed7953"
             ],
             [
              0.7777777777777778,
              "#fb9f3a"
             ],
             [
              0.8888888888888888,
              "#fdca26"
             ],
             [
              1,
              "#f0f921"
             ]
            ],
            "type": "histogram2d"
           }
          ],
          "histogram2dcontour": [
           {
            "colorbar": {
             "outlinewidth": 0,
             "ticks": ""
            },
            "colorscale": [
             [
              0,
              "#0d0887"
             ],
             [
              0.1111111111111111,
              "#46039f"
             ],
             [
              0.2222222222222222,
              "#7201a8"
             ],
             [
              0.3333333333333333,
              "#9c179e"
             ],
             [
              0.4444444444444444,
              "#bd3786"
             ],
             [
              0.5555555555555556,
              "#d8576b"
             ],
             [
              0.6666666666666666,
              "#ed7953"
             ],
             [
              0.7777777777777778,
              "#fb9f3a"
             ],
             [
              0.8888888888888888,
              "#fdca26"
             ],
             [
              1,
              "#f0f921"
             ]
            ],
            "type": "histogram2dcontour"
           }
          ],
          "mesh3d": [
           {
            "colorbar": {
             "outlinewidth": 0,
             "ticks": ""
            },
            "type": "mesh3d"
           }
          ],
          "parcoords": [
           {
            "line": {
             "colorbar": {
              "outlinewidth": 0,
              "ticks": ""
             }
            },
            "type": "parcoords"
           }
          ],
          "pie": [
           {
            "automargin": true,
            "type": "pie"
           }
          ],
          "scatter": [
           {
            "fillpattern": {
             "fillmode": "overlay",
             "size": 10,
             "solidity": 0.2
            },
            "type": "scatter"
           }
          ],
          "scatter3d": [
           {
            "line": {
             "colorbar": {
              "outlinewidth": 0,
              "ticks": ""
             }
            },
            "marker": {
             "colorbar": {
              "outlinewidth": 0,
              "ticks": ""
             }
            },
            "type": "scatter3d"
           }
          ],
          "scattercarpet": [
           {
            "marker": {
             "colorbar": {
              "outlinewidth": 0,
              "ticks": ""
             }
            },
            "type": "scattercarpet"
           }
          ],
          "scattergeo": [
           {
            "marker": {
             "colorbar": {
              "outlinewidth": 0,
              "ticks": ""
             }
            },
            "type": "scattergeo"
           }
          ],
          "scattergl": [
           {
            "marker": {
             "colorbar": {
              "outlinewidth": 0,
              "ticks": ""
             }
            },
            "type": "scattergl"
           }
          ],
          "scattermapbox": [
           {
            "marker": {
             "colorbar": {
              "outlinewidth": 0,
              "ticks": ""
             }
            },
            "type": "scattermapbox"
           }
          ],
          "scatterpolar": [
           {
            "marker": {
             "colorbar": {
              "outlinewidth": 0,
              "ticks": ""
             }
            },
            "type": "scatterpolar"
           }
          ],
          "scatterpolargl": [
           {
            "marker": {
             "colorbar": {
              "outlinewidth": 0,
              "ticks": ""
             }
            },
            "type": "scatterpolargl"
           }
          ],
          "scatterternary": [
           {
            "marker": {
             "colorbar": {
              "outlinewidth": 0,
              "ticks": ""
             }
            },
            "type": "scatterternary"
           }
          ],
          "surface": [
           {
            "colorbar": {
             "outlinewidth": 0,
             "ticks": ""
            },
            "colorscale": [
             [
              0,
              "#0d0887"
             ],
             [
              0.1111111111111111,
              "#46039f"
             ],
             [
              0.2222222222222222,
              "#7201a8"
             ],
             [
              0.3333333333333333,
              "#9c179e"
             ],
             [
              0.4444444444444444,
              "#bd3786"
             ],
             [
              0.5555555555555556,
              "#d8576b"
             ],
             [
              0.6666666666666666,
              "#ed7953"
             ],
             [
              0.7777777777777778,
              "#fb9f3a"
             ],
             [
              0.8888888888888888,
              "#fdca26"
             ],
             [
              1,
              "#f0f921"
             ]
            ],
            "type": "surface"
           }
          ],
          "table": [
           {
            "cells": {
             "fill": {
              "color": "#EBF0F8"
             },
             "line": {
              "color": "white"
             }
            },
            "header": {
             "fill": {
              "color": "#C8D4E3"
             },
             "line": {
              "color": "white"
             }
            },
            "type": "table"
           }
          ]
         },
         "layout": {
          "annotationdefaults": {
           "arrowcolor": "#2a3f5f",
           "arrowhead": 0,
           "arrowwidth": 1
          },
          "autotypenumbers": "strict",
          "coloraxis": {
           "colorbar": {
            "outlinewidth": 0,
            "ticks": ""
           }
          },
          "colorscale": {
           "diverging": [
            [
             0,
             "#8e0152"
            ],
            [
             0.1,
             "#c51b7d"
            ],
            [
             0.2,
             "#de77ae"
            ],
            [
             0.3,
             "#f1b6da"
            ],
            [
             0.4,
             "#fde0ef"
            ],
            [
             0.5,
             "#f7f7f7"
            ],
            [
             0.6,
             "#e6f5d0"
            ],
            [
             0.7,
             "#b8e186"
            ],
            [
             0.8,
             "#7fbc41"
            ],
            [
             0.9,
             "#4d9221"
            ],
            [
             1,
             "#276419"
            ]
           ],
           "sequential": [
            [
             0,
             "#0d0887"
            ],
            [
             0.1111111111111111,
             "#46039f"
            ],
            [
             0.2222222222222222,
             "#7201a8"
            ],
            [
             0.3333333333333333,
             "#9c179e"
            ],
            [
             0.4444444444444444,
             "#bd3786"
            ],
            [
             0.5555555555555556,
             "#d8576b"
            ],
            [
             0.6666666666666666,
             "#ed7953"
            ],
            [
             0.7777777777777778,
             "#fb9f3a"
            ],
            [
             0.8888888888888888,
             "#fdca26"
            ],
            [
             1,
             "#f0f921"
            ]
           ],
           "sequentialminus": [
            [
             0,
             "#0d0887"
            ],
            [
             0.1111111111111111,
             "#46039f"
            ],
            [
             0.2222222222222222,
             "#7201a8"
            ],
            [
             0.3333333333333333,
             "#9c179e"
            ],
            [
             0.4444444444444444,
             "#bd3786"
            ],
            [
             0.5555555555555556,
             "#d8576b"
            ],
            [
             0.6666666666666666,
             "#ed7953"
            ],
            [
             0.7777777777777778,
             "#fb9f3a"
            ],
            [
             0.8888888888888888,
             "#fdca26"
            ],
            [
             1,
             "#f0f921"
            ]
           ]
          },
          "colorway": [
           "#636efa",
           "#EF553B",
           "#00cc96",
           "#ab63fa",
           "#FFA15A",
           "#19d3f3",
           "#FF6692",
           "#B6E880",
           "#FF97FF",
           "#FECB52"
          ],
          "font": {
           "color": "#2a3f5f"
          },
          "geo": {
           "bgcolor": "white",
           "lakecolor": "white",
           "landcolor": "#E5ECF6",
           "showlakes": true,
           "showland": true,
           "subunitcolor": "white"
          },
          "hoverlabel": {
           "align": "left"
          },
          "hovermode": "closest",
          "mapbox": {
           "style": "light"
          },
          "paper_bgcolor": "white",
          "plot_bgcolor": "#E5ECF6",
          "polar": {
           "angularaxis": {
            "gridcolor": "white",
            "linecolor": "white",
            "ticks": ""
           },
           "bgcolor": "#E5ECF6",
           "radialaxis": {
            "gridcolor": "white",
            "linecolor": "white",
            "ticks": ""
           }
          },
          "scene": {
           "xaxis": {
            "backgroundcolor": "#E5ECF6",
            "gridcolor": "white",
            "gridwidth": 2,
            "linecolor": "white",
            "showbackground": true,
            "ticks": "",
            "zerolinecolor": "white"
           },
           "yaxis": {
            "backgroundcolor": "#E5ECF6",
            "gridcolor": "white",
            "gridwidth": 2,
            "linecolor": "white",
            "showbackground": true,
            "ticks": "",
            "zerolinecolor": "white"
           },
           "zaxis": {
            "backgroundcolor": "#E5ECF6",
            "gridcolor": "white",
            "gridwidth": 2,
            "linecolor": "white",
            "showbackground": true,
            "ticks": "",
            "zerolinecolor": "white"
           }
          },
          "shapedefaults": {
           "line": {
            "color": "#2a3f5f"
           }
          },
          "ternary": {
           "aaxis": {
            "gridcolor": "white",
            "linecolor": "white",
            "ticks": ""
           },
           "baxis": {
            "gridcolor": "white",
            "linecolor": "white",
            "ticks": ""
           },
           "bgcolor": "#E5ECF6",
           "caxis": {
            "gridcolor": "white",
            "linecolor": "white",
            "ticks": ""
           }
          },
          "title": {
           "x": 0.05
          },
          "xaxis": {
           "automargin": true,
           "gridcolor": "white",
           "linecolor": "white",
           "ticks": "",
           "title": {
            "standoff": 15
           },
           "zerolinecolor": "white",
           "zerolinewidth": 2
          },
          "yaxis": {
           "automargin": true,
           "gridcolor": "white",
           "linecolor": "white",
           "ticks": "",
           "title": {
            "standoff": 15
           },
           "zerolinecolor": "white",
           "zerolinewidth": 2
          }
         }
        },
        "xaxis": {
         "anchor": "y",
         "domain": [
          0,
          1
         ],
         "title": {
          "text": "spawn_chance"
         }
        },
        "yaxis": {
         "anchor": "x",
         "domain": [
          0,
          1
         ],
         "title": {
          "text": "count"
         }
        }
       }
      },
      "text/html": [
       "<div>                            <div id=\"50162d94-20d2-405a-b4aa-a5b10ad6c08c\" class=\"plotly-graph-div\" style=\"height:525px; width:100%;\"></div>            <script type=\"text/javascript\">                require([\"plotly\"], function(Plotly) {                    window.PLOTLYENV=window.PLOTLYENV || {};                                    if (document.getElementById(\"50162d94-20d2-405a-b4aa-a5b10ad6c08c\")) {                    Plotly.newPlot(                        \"50162d94-20d2-405a-b4aa-a5b10ad6c08c\",                        [{\"alignmentgroup\":\"True\",\"bingroup\":\"x\",\"hovertemplate\":\"spawn_chance=%{x}<br>count=%{y}<extra></extra>\",\"legendgroup\":\"\",\"marker\":{\"color\":\"#636efa\",\"pattern\":{\"shape\":\"\"}},\"name\":\"\",\"nbinsx\":30,\"offsetgroup\":\"\",\"orientation\":\"v\",\"showlegend\":false,\"x\":[0.69,0.042,0.017,0.253,0.012,0.0031,0.58,0.034,0.0067,3.032,0.187,0.022,7.12,0.44,0.051,15.98,1.02,0.13,13.05,0.41,4.73,0.15,2.27,0.072,0.21,0.0076,1.11,0.037,1.38,0.088,0.012,1.31,0.083,0.017,0.92,0.012,0.22,0.0077,0.39,0.018,6.52,0.42,1.02,0.064,0.0097,2.36,0.074,2.28,0.072,0.4,0.014,0.86,0.022,2.54,0.087,0.92,0.031,0.92,0.017,2.19,0.13,0.011,0.42,0.027,0.0073,0.49,0.034,0.0068,1.15,0.072,0.0059,0.81,0.082,1.19,0.071,0.0047,0.51,0.011,1.05,0.036,0.71,0.023,0.0212,0.52,0.22,0.28,0.013,0.052,0.0031,0.52,0.015,0.79,0.052,0.0067,0.1,3.21,0.1,2.12,0.062,0.65,0.02,0.78,0.014,0.61,0.02,0.02,0.022,0.011,0.2,0.016,0.63,0.022,0.013,0.228,0.0086,1.13,0.034,2.18,0.08,1.95,0.034,0.0031,0.14,0.35,0.074,0.1,0.99,0.12,4.78,0.0032,0.006,0.0,2.75,0.014,0.012,0.017,0.012,0.14,0.0061,0.1,0.0032,0.018,0.016,0.0,0.0,0.0,0.3,0.02,0.0011,0.0,0.0],\"xaxis\":\"x\",\"yaxis\":\"y\",\"type\":\"histogram\"}],                        {\"template\":{\"data\":{\"histogram2dcontour\":[{\"type\":\"histogram2dcontour\",\"colorbar\":{\"outlinewidth\":0,\"ticks\":\"\"},\"colorscale\":[[0.0,\"#0d0887\"],[0.1111111111111111,\"#46039f\"],[0.2222222222222222,\"#7201a8\"],[0.3333333333333333,\"#9c179e\"],[0.4444444444444444,\"#bd3786\"],[0.5555555555555556,\"#d8576b\"],[0.6666666666666666,\"#ed7953\"],[0.7777777777777778,\"#fb9f3a\"],[0.8888888888888888,\"#fdca26\"],[1.0,\"#f0f921\"]]}],\"choropleth\":[{\"type\":\"choropleth\",\"colorbar\":{\"outlinewidth\":0,\"ticks\":\"\"}}],\"histogram2d\":[{\"type\":\"histogram2d\",\"colorbar\":{\"outlinewidth\":0,\"ticks\":\"\"},\"colorscale\":[[0.0,\"#0d0887\"],[0.1111111111111111,\"#46039f\"],[0.2222222222222222,\"#7201a8\"],[0.3333333333333333,\"#9c179e\"],[0.4444444444444444,\"#bd3786\"],[0.5555555555555556,\"#d8576b\"],[0.6666666666666666,\"#ed7953\"],[0.7777777777777778,\"#fb9f3a\"],[0.8888888888888888,\"#fdca26\"],[1.0,\"#f0f921\"]]}],\"heatmap\":[{\"type\":\"heatmap\",\"colorbar\":{\"outlinewidth\":0,\"ticks\":\"\"},\"colorscale\":[[0.0,\"#0d0887\"],[0.1111111111111111,\"#46039f\"],[0.2222222222222222,\"#7201a8\"],[0.3333333333333333,\"#9c179e\"],[0.4444444444444444,\"#bd3786\"],[0.5555555555555556,\"#d8576b\"],[0.6666666666666666,\"#ed7953\"],[0.7777777777777778,\"#fb9f3a\"],[0.8888888888888888,\"#fdca26\"],[1.0,\"#f0f921\"]]}],\"heatmapgl\":[{\"type\":\"heatmapgl\",\"colorbar\":{\"outlinewidth\":0,\"ticks\":\"\"},\"colorscale\":[[0.0,\"#0d0887\"],[0.1111111111111111,\"#46039f\"],[0.2222222222222222,\"#7201a8\"],[0.3333333333333333,\"#9c179e\"],[0.4444444444444444,\"#bd3786\"],[0.5555555555555556,\"#d8576b\"],[0.6666666666666666,\"#ed7953\"],[0.7777777777777778,\"#fb9f3a\"],[0.8888888888888888,\"#fdca26\"],[1.0,\"#f0f921\"]]}],\"contourcarpet\":[{\"type\":\"contourcarpet\",\"colorbar\":{\"outlinewidth\":0,\"ticks\":\"\"}}],\"contour\":[{\"type\":\"contour\",\"colorbar\":{\"outlinewidth\":0,\"ticks\":\"\"},\"colorscale\":[[0.0,\"#0d0887\"],[0.1111111111111111,\"#46039f\"],[0.2222222222222222,\"#7201a8\"],[0.3333333333333333,\"#9c179e\"],[0.4444444444444444,\"#bd3786\"],[0.5555555555555556,\"#d8576b\"],[0.6666666666666666,\"#ed7953\"],[0.7777777777777778,\"#fb9f3a\"],[0.8888888888888888,\"#fdca26\"],[1.0,\"#f0f921\"]]}],\"surface\":[{\"type\":\"surface\",\"colorbar\":{\"outlinewidth\":0,\"ticks\":\"\"},\"colorscale\":[[0.0,\"#0d0887\"],[0.1111111111111111,\"#46039f\"],[0.2222222222222222,\"#7201a8\"],[0.3333333333333333,\"#9c179e\"],[0.4444444444444444,\"#bd3786\"],[0.5555555555555556,\"#d8576b\"],[0.6666666666666666,\"#ed7953\"],[0.7777777777777778,\"#fb9f3a\"],[0.8888888888888888,\"#fdca26\"],[1.0,\"#f0f921\"]]}],\"mesh3d\":[{\"type\":\"mesh3d\",\"colorbar\":{\"outlinewidth\":0,\"ticks\":\"\"}}],\"scatter\":[{\"fillpattern\":{\"fillmode\":\"overlay\",\"size\":10,\"solidity\":0.2},\"type\":\"scatter\"}],\"parcoords\":[{\"type\":\"parcoords\",\"line\":{\"colorbar\":{\"outlinewidth\":0,\"ticks\":\"\"}}}],\"scatterpolargl\":[{\"type\":\"scatterpolargl\",\"marker\":{\"colorbar\":{\"outlinewidth\":0,\"ticks\":\"\"}}}],\"bar\":[{\"error_x\":{\"color\":\"#2a3f5f\"},\"error_y\":{\"color\":\"#2a3f5f\"},\"marker\":{\"line\":{\"color\":\"#E5ECF6\",\"width\":0.5},\"pattern\":{\"fillmode\":\"overlay\",\"size\":10,\"solidity\":0.2}},\"type\":\"bar\"}],\"scattergeo\":[{\"type\":\"scattergeo\",\"marker\":{\"colorbar\":{\"outlinewidth\":0,\"ticks\":\"\"}}}],\"scatterpolar\":[{\"type\":\"scatterpolar\",\"marker\":{\"colorbar\":{\"outlinewidth\":0,\"ticks\":\"\"}}}],\"histogram\":[{\"marker\":{\"pattern\":{\"fillmode\":\"overlay\",\"size\":10,\"solidity\":0.2}},\"type\":\"histogram\"}],\"scattergl\":[{\"type\":\"scattergl\",\"marker\":{\"colorbar\":{\"outlinewidth\":0,\"ticks\":\"\"}}}],\"scatter3d\":[{\"type\":\"scatter3d\",\"line\":{\"colorbar\":{\"outlinewidth\":0,\"ticks\":\"\"}},\"marker\":{\"colorbar\":{\"outlinewidth\":0,\"ticks\":\"\"}}}],\"scattermapbox\":[{\"type\":\"scattermapbox\",\"marker\":{\"colorbar\":{\"outlinewidth\":0,\"ticks\":\"\"}}}],\"scatterternary\":[{\"type\":\"scatterternary\",\"marker\":{\"colorbar\":{\"outlinewidth\":0,\"ticks\":\"\"}}}],\"scattercarpet\":[{\"type\":\"scattercarpet\",\"marker\":{\"colorbar\":{\"outlinewidth\":0,\"ticks\":\"\"}}}],\"carpet\":[{\"aaxis\":{\"endlinecolor\":\"#2a3f5f\",\"gridcolor\":\"white\",\"linecolor\":\"white\",\"minorgridcolor\":\"white\",\"startlinecolor\":\"#2a3f5f\"},\"baxis\":{\"endlinecolor\":\"#2a3f5f\",\"gridcolor\":\"white\",\"linecolor\":\"white\",\"minorgridcolor\":\"white\",\"startlinecolor\":\"#2a3f5f\"},\"type\":\"carpet\"}],\"table\":[{\"cells\":{\"fill\":{\"color\":\"#EBF0F8\"},\"line\":{\"color\":\"white\"}},\"header\":{\"fill\":{\"color\":\"#C8D4E3\"},\"line\":{\"color\":\"white\"}},\"type\":\"table\"}],\"barpolar\":[{\"marker\":{\"line\":{\"color\":\"#E5ECF6\",\"width\":0.5},\"pattern\":{\"fillmode\":\"overlay\",\"size\":10,\"solidity\":0.2}},\"type\":\"barpolar\"}],\"pie\":[{\"automargin\":true,\"type\":\"pie\"}]},\"layout\":{\"autotypenumbers\":\"strict\",\"colorway\":[\"#636efa\",\"#EF553B\",\"#00cc96\",\"#ab63fa\",\"#FFA15A\",\"#19d3f3\",\"#FF6692\",\"#B6E880\",\"#FF97FF\",\"#FECB52\"],\"font\":{\"color\":\"#2a3f5f\"},\"hovermode\":\"closest\",\"hoverlabel\":{\"align\":\"left\"},\"paper_bgcolor\":\"white\",\"plot_bgcolor\":\"#E5ECF6\",\"polar\":{\"bgcolor\":\"#E5ECF6\",\"angularaxis\":{\"gridcolor\":\"white\",\"linecolor\":\"white\",\"ticks\":\"\"},\"radialaxis\":{\"gridcolor\":\"white\",\"linecolor\":\"white\",\"ticks\":\"\"}},\"ternary\":{\"bgcolor\":\"#E5ECF6\",\"aaxis\":{\"gridcolor\":\"white\",\"linecolor\":\"white\",\"ticks\":\"\"},\"baxis\":{\"gridcolor\":\"white\",\"linecolor\":\"white\",\"ticks\":\"\"},\"caxis\":{\"gridcolor\":\"white\",\"linecolor\":\"white\",\"ticks\":\"\"}},\"coloraxis\":{\"colorbar\":{\"outlinewidth\":0,\"ticks\":\"\"}},\"colorscale\":{\"sequential\":[[0.0,\"#0d0887\"],[0.1111111111111111,\"#46039f\"],[0.2222222222222222,\"#7201a8\"],[0.3333333333333333,\"#9c179e\"],[0.4444444444444444,\"#bd3786\"],[0.5555555555555556,\"#d8576b\"],[0.6666666666666666,\"#ed7953\"],[0.7777777777777778,\"#fb9f3a\"],[0.8888888888888888,\"#fdca26\"],[1.0,\"#f0f921\"]],\"sequentialminus\":[[0.0,\"#0d0887\"],[0.1111111111111111,\"#46039f\"],[0.2222222222222222,\"#7201a8\"],[0.3333333333333333,\"#9c179e\"],[0.4444444444444444,\"#bd3786\"],[0.5555555555555556,\"#d8576b\"],[0.6666666666666666,\"#ed7953\"],[0.7777777777777778,\"#fb9f3a\"],[0.8888888888888888,\"#fdca26\"],[1.0,\"#f0f921\"]],\"diverging\":[[0,\"#8e0152\"],[0.1,\"#c51b7d\"],[0.2,\"#de77ae\"],[0.3,\"#f1b6da\"],[0.4,\"#fde0ef\"],[0.5,\"#f7f7f7\"],[0.6,\"#e6f5d0\"],[0.7,\"#b8e186\"],[0.8,\"#7fbc41\"],[0.9,\"#4d9221\"],[1,\"#276419\"]]},\"xaxis\":{\"gridcolor\":\"white\",\"linecolor\":\"white\",\"ticks\":\"\",\"title\":{\"standoff\":15},\"zerolinecolor\":\"white\",\"automargin\":true,\"zerolinewidth\":2},\"yaxis\":{\"gridcolor\":\"white\",\"linecolor\":\"white\",\"ticks\":\"\",\"title\":{\"standoff\":15},\"zerolinecolor\":\"white\",\"automargin\":true,\"zerolinewidth\":2},\"scene\":{\"xaxis\":{\"backgroundcolor\":\"#E5ECF6\",\"gridcolor\":\"white\",\"linecolor\":\"white\",\"showbackground\":true,\"ticks\":\"\",\"zerolinecolor\":\"white\",\"gridwidth\":2},\"yaxis\":{\"backgroundcolor\":\"#E5ECF6\",\"gridcolor\":\"white\",\"linecolor\":\"white\",\"showbackground\":true,\"ticks\":\"\",\"zerolinecolor\":\"white\",\"gridwidth\":2},\"zaxis\":{\"backgroundcolor\":\"#E5ECF6\",\"gridcolor\":\"white\",\"linecolor\":\"white\",\"showbackground\":true,\"ticks\":\"\",\"zerolinecolor\":\"white\",\"gridwidth\":2}},\"shapedefaults\":{\"line\":{\"color\":\"#2a3f5f\"}},\"annotationdefaults\":{\"arrowcolor\":\"#2a3f5f\",\"arrowhead\":0,\"arrowwidth\":1},\"geo\":{\"bgcolor\":\"white\",\"landcolor\":\"#E5ECF6\",\"subunitcolor\":\"white\",\"showland\":true,\"showlakes\":true,\"lakecolor\":\"white\"},\"title\":{\"x\":0.05},\"mapbox\":{\"style\":\"light\"}}},\"xaxis\":{\"anchor\":\"y\",\"domain\":[0.0,1.0],\"title\":{\"text\":\"spawn_chance\"}},\"yaxis\":{\"anchor\":\"x\",\"domain\":[0.0,1.0],\"title\":{\"text\":\"count\"}},\"legend\":{\"tracegroupgap\":0},\"margin\":{\"t\":60},\"barmode\":\"relative\"},                        {\"responsive\": true}                    ).then(function(){\n",
       "                            \n",
       "var gd = document.getElementById('50162d94-20d2-405a-b4aa-a5b10ad6c08c');\n",
       "var x = new MutationObserver(function (mutations, observer) {{\n",
       "        var display = window.getComputedStyle(gd).display;\n",
       "        if (!display || display === 'none') {{\n",
       "            console.log([gd, 'removed!']);\n",
       "            Plotly.purge(gd);\n",
       "            observer.disconnect();\n",
       "        }}\n",
       "}});\n",
       "\n",
       "// Listen for the removal of the full notebook cells\n",
       "var notebookContainer = gd.closest('#notebook-container');\n",
       "if (notebookContainer) {{\n",
       "    x.observe(notebookContainer, {childList: true});\n",
       "}}\n",
       "\n",
       "// Listen for the clearing of the current output cell\n",
       "var outputEl = gd.closest('.output');\n",
       "if (outputEl) {{\n",
       "    x.observe(outputEl, {childList: true});\n",
       "}}\n",
       "\n",
       "                        })                };                });            </script>        </div>"
      ]
     },
     "metadata": {},
     "output_type": "display_data"
    }
   ],
   "source": [
    "import plotly.express as px\n",
    "fig = px.histogram(df, x=\"spawn_chance\",nbins = 30 )\n",
    "fig.show()"
   ]
  },
  {
   "cell_type": "code",
   "execution_count": 28,
   "id": "3256ea68",
   "metadata": {},
   "outputs": [
    {
     "name": "stderr",
     "output_type": "stream",
     "text": [
      "C:\\Users\\hp\\anaconda3\\lib\\site-packages\\seaborn\\_decorators.py:36: FutureWarning:\n",
      "\n",
      "Pass the following variable as a keyword arg: x. From version 0.12, the only valid positional argument will be `data`, and passing other arguments without an explicit keyword will result in an error or misinterpretation.\n",
      "\n"
     ]
    },
    {
     "data": {
      "image/png": "[encoded data removed]",
      "text/plain": [
       "<Figure size 432x288 with 1 Axes>"
      ]
     },
     "metadata": {
      "needs_background": "light"
     },
     "output_type": "display_data"
    }
   ],
   "source": [
    "weaknesses = ['Fire', 'Ice', 'Flying', 'Psychic', 'Water']\n",
    "\n",
    "# Count plot\n",
    "sns.countplot(weaknesses)\n",
    "plt.xlabel('Weakness')\n",
    "plt.ylabel('Count')\n",
    "plt.title('Pokemon Weaknesses')\n",
    "plt.show()\n"
   ]
  },
  {
   "cell_type": "markdown",
   "id": "0f303b03",
   "metadata": {},
   "source": [
    "## 1. Get all Pokemons whose spawn rate is less than 5%"
   ]
  },
  {
   "cell_type": "code",
   "execution_count": 17,
   "id": "178961d7",
   "metadata": {},
   "outputs": [
    {
     "data": {
      "text/plain": [
       "1         Ivysaur\n",
       "2        Venusaur\n",
       "3      Charmander\n",
       "4      Charmeleon\n",
       "5       Charizard\n",
       "          ...    \n",
       "146       Dratini\n",
       "147     Dragonair\n",
       "148     Dragonite\n",
       "149        Mewtwo\n",
       "150           Mew\n",
       "Name: name, Length: 108, dtype: object"
      ]
     },
     "execution_count": 17,
     "metadata": {},
     "output_type": "execute_result"
    }
   ],
   "source": [
    "pokemon_spawn_rate_5 = df['name'][df['spawn_chance'] < 0.5]\n",
    "pokemon_spawn_rate_5"
   ]
  },
  {
   "cell_type": "markdown",
   "id": "fe50b7c0",
   "metadata": {},
   "source": [
    "## 2. Get all Pokemons that have less than 4 weaknesses"
   ]
  },
  {
   "cell_type": "code",
   "execution_count": 22,
   "id": "d70d0846",
   "metadata": {},
   "outputs": [
    {
     "data": {
      "text/plain": [
       "3      Charmander\n",
       "4      Charmeleon\n",
       "5       Charizard\n",
       "6        Squirtle\n",
       "7       Wartortle\n",
       "          ...    \n",
       "145       Moltres\n",
       "146       Dratini\n",
       "147     Dragonair\n",
       "149        Mewtwo\n",
       "150           Mew\n",
       "Name: name, Length: 102, dtype: object"
      ]
     },
     "execution_count": 22,
     "metadata": {},
     "output_type": "execute_result"
    }
   ],
   "source": [
    "pokemon_less_than_4_weaknesses = df[df['weaknesses'].apply(lambda x: len(x)) < 4]\n",
    "pokemon_less_than_4_weaknesses['name']"
   ]
  },
  {
   "cell_type": "markdown",
   "id": "8f43e3f0",
   "metadata": {},
   "source": [
    "## 3. Get all Pokemons that have no multipliers at all"
   ]
  },
  {
   "cell_type": "code",
   "execution_count": 9,
   "id": "03b5135e",
   "metadata": {},
   "outputs": [
    {
     "name": "stdout",
     "output_type": "stream",
     "text": [
      "2 Venusaur\n",
      "5 Charizard\n",
      "8 Blastoise\n",
      "11 Butterfree\n",
      "14 Beedrill\n",
      "17 Pidgeot\n",
      "19 Raticate\n",
      "21 Fearow\n",
      "23 Arbok\n",
      "25 Raichu\n",
      "27 Sandslash\n",
      "30 Nidoqueen\n",
      "33 Nidoking\n",
      "35 Clefable\n",
      "37 Ninetales\n",
      "39 Wigglytuff\n",
      "41 Golbat\n",
      "44 Vileplume\n",
      "46 Parasect\n",
      "48 Venomoth\n",
      "50 Dugtrio\n",
      "52 Persian\n",
      "54 Golduck\n",
      "56 Primeape\n",
      "58 Arcanine\n",
      "61 Poliwrath\n",
      "64 Alakazam\n",
      "67 Machamp\n",
      "70 Victreebel\n",
      "72 Tentacruel\n",
      "75 Golem\n",
      "77 Rapidash\n",
      "79 Slowbro\n",
      "81 Magneton\n",
      "82 Farfetch'd\n",
      "84 Dodrio\n",
      "86 Dewgong\n",
      "88 Muk\n",
      "90 Cloyster\n",
      "93 Gengar\n",
      "94 Onix\n",
      "96 Hypno\n",
      "98 Kingler\n",
      "100 Electrode\n",
      "102 Exeggutor\n",
      "104 Marowak\n",
      "105 Hitmonlee\n",
      "106 Hitmonchan\n",
      "107 Lickitung\n",
      "109 Weezing\n",
      "111 Rhydon\n",
      "112 Chansey\n",
      "113 Tangela\n",
      "114 Kangaskhan\n",
      "116 Seadra\n",
      "118 Seaking\n",
      "120 Starmie\n",
      "121 Mr. Mime\n",
      "122 Scyther\n",
      "123 Jynx\n",
      "124 Electabuzz\n",
      "125 Magmar\n",
      "126 Pinsir\n",
      "127 Tauros\n",
      "129 Gyarados\n",
      "130 Lapras\n",
      "131 Ditto\n",
      "133 Vaporeon\n",
      "134 Jolteon\n",
      "135 Flareon\n",
      "136 Porygon\n",
      "138 Omastar\n",
      "140 Kabutops\n",
      "141 Aerodactyl\n",
      "142 Snorlax\n",
      "143 Articuno\n",
      "144 Zapdos\n",
      "145 Moltres\n",
      "148 Dragonite\n",
      "149 Mewtwo\n",
      "150 Mew\n"
     ]
    }
   ],
   "source": [
    "for i in df['multipliers'].index:\n",
    "    if (df[\"multipliers\"][i]) == None:\n",
    "        print(i, df[\"name\"][i])"
   ]
  },
  {
   "cell_type": "markdown",
   "id": "b1ad1b28",
   "metadata": {},
   "source": [
    "## 4. Get all Pokemons that do not have more than 2 evolutions"
   ]
  },
  {
   "cell_type": "code",
   "execution_count": 12,
   "id": "944ae704",
   "metadata": {},
   "outputs": [
    {
     "name": "stdout",
     "output_type": "stream",
     "text": [
      "Bulbasaur\n",
      "Ivysaur\n",
      "Venusaur\n",
      "Charmander\n",
      "Charmeleon\n",
      "Charizard\n",
      "Squirtle\n",
      "Wartortle\n",
      "Blastoise\n",
      "Caterpie\n",
      "Metapod\n",
      "Butterfree\n",
      "Weedle\n",
      "Kakuna\n",
      "Beedrill\n",
      "Pidgey\n",
      "Pidgeotto\n",
      "Pidgeot\n",
      "Rattata\n",
      "Raticate\n",
      "Spearow\n",
      "Fearow\n",
      "Ekans\n",
      "Arbok\n",
      "Pikachu\n",
      "Raichu\n",
      "Sandshrew\n",
      "Sandslash\n",
      "Nidoran â™€ (Female)\n",
      "Nidorina\n",
      "Nidoqueen\n",
      "Nidoran â™‚ (Male)\n",
      "Nidorino\n",
      "Nidoking\n",
      "Clefairy\n",
      "Clefable\n",
      "Vulpix\n",
      "Ninetales\n",
      "Jigglypuff\n",
      "Wigglytuff\n",
      "Zubat\n",
      "Golbat\n",
      "Oddish\n",
      "Gloom\n",
      "Vileplume\n",
      "Paras\n",
      "Parasect\n",
      "Venonat\n",
      "Venomoth\n",
      "Diglett\n",
      "Dugtrio\n",
      "Meowth\n",
      "Persian\n",
      "Psyduck\n",
      "Golduck\n",
      "Mankey\n",
      "Primeape\n",
      "Growlithe\n",
      "Arcanine\n",
      "Poliwag\n",
      "Poliwhirl\n",
      "Poliwrath\n",
      "Abra\n",
      "Kadabra\n",
      "Alakazam\n",
      "Machop\n",
      "Machoke\n",
      "Machamp\n",
      "Bellsprout\n",
      "Weepinbell\n",
      "Victreebel\n",
      "Tentacool\n",
      "Tentacruel\n",
      "Geodude\n",
      "Graveler\n",
      "Golem\n",
      "Ponyta\n",
      "Rapidash\n",
      "Slowpoke\n",
      "Slowbro\n",
      "Magnemite\n",
      "Magneton\n",
      "Farfetch'd\n",
      "Doduo\n",
      "Dodrio\n",
      "Seel\n",
      "Dewgong\n",
      "Grimer\n",
      "Muk\n",
      "Shellder\n",
      "Cloyster\n",
      "Gastly\n",
      "Haunter\n",
      "Gengar\n",
      "Onix\n",
      "Drowzee\n",
      "Hypno\n",
      "Krabby\n",
      "Kingler\n",
      "Voltorb\n",
      "Electrode\n",
      "Exeggcute\n",
      "Exeggutor\n",
      "Cubone\n",
      "Marowak\n",
      "Hitmonlee\n",
      "Hitmonchan\n",
      "Lickitung\n",
      "Koffing\n",
      "Weezing\n",
      "Rhyhorn\n",
      "Rhydon\n",
      "Chansey\n",
      "Tangela\n",
      "Kangaskhan\n",
      "Horsea\n",
      "Seadra\n",
      "Goldeen\n",
      "Seaking\n",
      "Staryu\n",
      "Starmie\n",
      "Mr. Mime\n",
      "Scyther\n",
      "Jynx\n",
      "Electabuzz\n",
      "Magmar\n",
      "Pinsir\n",
      "Tauros\n",
      "Magikarp\n",
      "Gyarados\n",
      "Lapras\n",
      "Ditto\n",
      "Vaporeon\n",
      "Jolteon\n",
      "Flareon\n",
      "Porygon\n",
      "Omanyte\n",
      "Omastar\n",
      "Kabuto\n",
      "Kabutops\n",
      "Aerodactyl\n",
      "Snorlax\n",
      "Articuno\n",
      "Zapdos\n",
      "Moltres\n",
      "Dratini\n",
      "Dragonair\n",
      "Dragonite\n",
      "Mewtwo\n",
      "Mew\n"
     ]
    }
   ],
   "source": [
    "def count_evolution(row):\n",
    "    count = 0\n",
    "    if isinstance(row['next_evolution'], list):\n",
    "        count += len(row['next_evolution'])\n",
    "    if isinstance(row['prev_evolution'], list):\n",
    "        count += len(row['prev_evolution'])\n",
    "    return count\n",
    "\n",
    "df['count'] = df.apply(count_evolution, axis=1)\n",
    "for i in df[\"count\"].index:\n",
    "    if df[\"count\"][i] <= 2:\n",
    "        print(df[\"name\"][i])"
   ]
  },
  {
   "cell_type": "markdown",
   "id": "0c7871b2",
   "metadata": {},
   "source": [
    "## 5. Get all Pokemons whose spawn time is less than 300 seconds."
   ]
  },
  {
   "cell_type": "code",
   "execution_count": 15,
   "id": "c759fe03",
   "metadata": {},
   "outputs": [
    {
     "data": {
      "text/plain": [
       "131       Ditto\n",
       "143    Articuno\n",
       "144      Zapdos\n",
       "145     Moltres\n",
       "149      Mewtwo\n",
       "150         Mew\n",
       "Name: name, dtype: object"
      ]
     },
     "execution_count": 15,
     "metadata": {},
     "output_type": "execute_result"
    }
   ],
   "source": [
    "df[\"spawn_time\"].replace(\"N/A\", 0, inplace=True)\n",
    "def convert_to_seconds(time_str):\n",
    "    if pd.isnull(time_str) or time_str == \"\" or time_str == 0:\n",
    "        return time_str\n",
    "    else:\n",
    "        time_components = str(time_str).split(\":\")\n",
    "        seconds = int(time_components[0]) * 3600 + int(time_components[1]) * 60\n",
    "        return seconds\n",
    "\n",
    "df['seconds'] = df['spawn_time'].apply(convert_to_seconds)\n",
    "pokemon_spawn_time_300 = df['name'][df['seconds'] < 300]\n",
    "pokemon_spawn_time_300"
   ]
  },
  {
   "cell_type": "markdown",
   "id": "2be227ff",
   "metadata": {},
   "source": [
    "## 6. Get all Pokemon who have more than two types of capabilities"
   ]
  },
  {
   "cell_type": "code",
   "execution_count": 16,
   "id": "9919d78a",
   "metadata": {},
   "outputs": [
    {
     "data": {
      "text/html": [
       "<div>\n",
       "<style scoped>\n",
       "    .dataframe tbody tr th:only-of-type {\n",
       "        vertical-align: middle;\n",
       "    }\n",
       "\n",
       "    .dataframe tbody tr th {\n",
       "        vertical-align: top;\n",
       "    }\n",
       "\n",
       "    .dataframe thead th {\n",
       "        text-align: right;\n",
       "    }\n",
       "</style>\n",
       "<table border=\"1\" class=\"dataframe\">\n",
       "  <thead>\n",
       "    <tr style=\"text-align: right;\">\n",
       "      <th></th>\n",
       "      <th>id</th>\n",
       "      <th>num</th>\n",
       "      <th>name</th>\n",
       "      <th>img</th>\n",
       "      <th>type</th>\n",
       "      <th>height</th>\n",
       "      <th>weight</th>\n",
       "      <th>candy</th>\n",
       "      <th>candy_count</th>\n",
       "      <th>egg</th>\n",
       "      <th>spawn_chance</th>\n",
       "      <th>avg_spawns</th>\n",
       "      <th>spawn_time</th>\n",
       "      <th>multipliers</th>\n",
       "      <th>weaknesses</th>\n",
       "      <th>next_evolution</th>\n",
       "      <th>prev_evolution</th>\n",
       "      <th>count</th>\n",
       "      <th>seconds</th>\n",
       "    </tr>\n",
       "  </thead>\n",
       "  <tbody>\n",
       "  </tbody>\n",
       "</table>\n",
       "</div>"
      ],
      "text/plain": [
       "Empty DataFrame\n",
       "Columns: [id, num, name, img, type, height, weight, candy, candy_count, egg, spawn_chance, avg_spawns, spawn_time, multipliers, weaknesses, next_evolution, prev_evolution, count, seconds]\n",
       "Index: []"
      ]
     },
     "execution_count": 16,
     "metadata": {},
     "output_type": "execute_result"
    }
   ],
   "source": [
    "pokemon_2 = df[df['type'].apply(lambda x: len(x) > 2)]\n",
    "pokemon_2"
   ]
  },
  {
   "cell_type": "markdown",
   "id": "10740f1d",
   "metadata": {},
   "source": [
    "#### No pokemon has more than two capabilities"
   ]
  },
  {
   "cell_type": "code",
   "execution_count": null,
   "id": "4a1a670c",
   "metadata": {},
   "outputs": [],
   "source": []
  }
 ],
 "metadata": {
  "kernelspec": {
   "display_name": "Python 3 (ipykernel)",
   "language": "python",
   "name": "python3"
  },
  "language_info": {
   "codemirror_mode": {
    "name": "ipython",
    "version": 3
   },
   "file_extension": ".py",
   "mimetype": "text/x-python",
   "name": "python",
   "nbconvert_exporter": "python",
   "pygments_lexer": "ipython3",
   "version": "3.9.7"
  }
 },
 "nbformat": 4,
 "nbformat_minor": 5
}
