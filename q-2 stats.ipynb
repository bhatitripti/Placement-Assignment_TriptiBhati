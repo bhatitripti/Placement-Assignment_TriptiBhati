{
 "cells": [
  {
   "cell_type": "markdown",
   "id": "159f66ef",
   "metadata": {},
   "source": [
    "Q-2. Consider a dataset containing the heights (in centimeters) of 1000 individuals. The mean height is 170 cm with a standard deviation of 10 cm. The dataset is approximately normally distributed, and its skewness is approximately zero. Based on this information, answer the following questions:"
   ]
  },
  {
   "cell_type": "markdown",
   "id": "b5491416",
   "metadata": {},
   "source": [
    "### a. Percentage of individuals with heights between 160 cm and 180 cm"
   ]
  },
  {
   "cell_type": "code",
   "execution_count": 2,
   "id": "6018ff0d",
   "metadata": {},
   "outputs": [],
   "source": [
    "import scipy.stats as stats"
   ]
  },
  {
   "cell_type": "code",
   "execution_count": 4,
   "id": "36f8b05d",
   "metadata": {},
   "outputs": [
    {
     "name": "stdout",
     "output_type": "stream",
     "text": [
      "a. Percentage of individuals with heights between 160 cm and 180 cm: 68.26894921370858\n"
     ]
    }
   ],
   "source": [
    "mean = 170\n",
    "std_dev = 10\n",
    "p1 = (160 - mean) / std_dev\n",
    "p2 = (180 - mean) / std_dev\n",
    "per = (stats.norm.cdf(p2) - stats.norm.cdf(p1)) * 100\n",
    "print(\"Percentage of individuals with heights between 160 cm and 180 cm:\", per)"
   ]
  },
  {
   "cell_type": "markdown",
   "id": "e8bedd3e",
   "metadata": {},
   "source": [
    "### b. Probability that the average height of 100 individuals is greater than 175 cm"
   ]
  },
  {
   "cell_type": "code",
   "execution_count": 5,
   "id": "704424bf",
   "metadata": {},
   "outputs": [
    {
     "name": "stdout",
     "output_type": "stream",
     "text": [
      " Probability that the average height of 100 individuals is greater than 175 cm: 2.866515719235352e-07\n"
     ]
    }
   ],
   "source": [
    "sample_size = 100\n",
    "std_error = std_dev / (sample_size ** 0.5)\n",
    "z = (175 - mean) / std_error\n",
    "p = 1 - stats.norm.cdf(z)\n",
    "print(\" Probability that the average height of 100 individuals is greater than 175 cm:\", p)"
   ]
  },
  {
   "cell_type": "markdown",
   "id": "96e43bbc",
   "metadata": {},
   "source": [
    "### c. Z-score corresponding to a height of 185 cm"
   ]
  },
  {
   "cell_type": "code",
   "execution_count": 6,
   "id": "48916ec3",
   "metadata": {},
   "outputs": [
    {
     "name": "stdout",
     "output_type": "stream",
     "text": [
      "Z-score corresponding to a height of 185 cm: 1.5\n"
     ]
    }
   ],
   "source": [
    "x = 185\n",
    "z = (x - mean) / std_dev\n",
    "print(\"Z-score corresponding to a height of 185 cm:\", z)"
   ]
  },
  {
   "cell_type": "markdown",
   "id": "af67c346",
   "metadata": {},
   "source": [
    "### d. Approximate height corresponding to 5% threshold"
   ]
  },
  {
   "cell_type": "code",
   "execution_count": 7,
   "id": "7d212fe9",
   "metadata": {},
   "outputs": [
    {
     "name": "stdout",
     "output_type": "stream",
     "text": [
      "Approximate height corresponding to 5% threshold: 153.55146373048527\n"
     ]
    }
   ],
   "source": [
    "t = stats.norm.ppf(0.05) * std_dev + mean\n",
    "print(\"Approximate height corresponding to 5% threshold:\", t)"
   ]
  },
  {
   "cell_type": "markdown",
   "id": "5ce3064a",
   "metadata": {},
   "source": [
    "### e. Coefficient of variation (CV)"
   ]
  },
  {
   "cell_type": "code",
   "execution_count": 8,
   "id": "1d85df6c",
   "metadata": {},
   "outputs": [
    {
     "data": {
      "text/plain": [
       "5.88235294117647"
      ]
     },
     "execution_count": 8,
     "metadata": {},
     "output_type": "execute_result"
    }
   ],
   "source": [
    "cv = (std_dev / mean) * 100\n",
    "cv"
   ]
  },
  {
   "cell_type": "markdown",
   "id": "e6c4970e",
   "metadata": {},
   "source": [
    "### f. Skewness of the dataset"
   ]
  },
  {
   "cell_type": "code",
   "execution_count": 9,
   "id": "fef07e6a",
   "metadata": {},
   "outputs": [
    {
     "data": {
      "text/plain": [
       "0"
      ]
     },
     "execution_count": 9,
     "metadata": {},
     "output_type": "execute_result"
    }
   ],
   "source": [
    "skewness = 0  # given\n",
    "skewness"
   ]
  },
  {
   "cell_type": "code",
   "execution_count": null,
   "id": "bfae2e3c",
   "metadata": {},
   "outputs": [],
   "source": []
  }
 ],
 "metadata": {
  "kernelspec": {
   "display_name": "Python 3 (ipykernel)",
   "language": "python",
   "name": "python3"
  },
  "language_info": {
   "codemirror_mode": {
    "name": "ipython",
    "version": 3
   },
   "file_extension": ".py",
   "mimetype": "text/x-python",
   "name": "python",
   "nbconvert_exporter": "python",
   "pygments_lexer": "ipython3",
   "version": "3.9.7"
  }
 },
 "nbformat": 4,
 "nbformat_minor": 5
}
