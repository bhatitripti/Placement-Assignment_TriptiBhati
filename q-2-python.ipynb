{
 "cells": [
  {
   "cell_type": "markdown",
   "metadata": {},
   "source": [
    "Consider a string to be valid if all characters of the string appear the same number of times. It is also valid if he can remove just one character at the index in the string, and the remaining characters will occur the same number of times. Given a string, determine if it is valid. If so, return YES , otherwise return NO .\n",
    "Note - You have to write at least 2 additional test cases in which your program will run successfully and provide an explanation for the same.\n",
    "Example input 1 - s = “abc”. This is a valid string because frequencies are { “a”: 1, “b”: 1, “c”: 1 } \n",
    "Example output 1- YES\n",
    "Example input 2 - s “abcc”. This string is not valid as we can remove only 1 occurrence of “c”. That leaves character frequencies of { “a”: 1, “b”: 1 , “c”: 2 }\n",
    "Example output 2 - NO\n"
   ]
  },
  {
   "cell_type": "code",
   "execution_count": 17,
   "metadata": {},
   "outputs": [],
   "source": [
    "def is_valid_string(s):\n",
    "# using dict to Count the frequency of each character in the string\n",
    "    d=freq_char(s)\n",
    "    flag= equality(d)\n",
    "    if flag==1:\n",
    "        return \"YES\"\n",
    "    else:\n",
    "    # Check if removing one character makes all frequencies the same\n",
    "        for i in range(len(s)):\n",
    "            # Remove character at index i\n",
    "            temp = s[:i] + s[i+1:]\n",
    "            d=freq_char(temp)\n",
    "            #print(d, \"of\" , i)\n",
    "            flag= equality(d)\n",
    "            if flag==1:\n",
    "                return \"YES\"\n",
    "            \n",
    "        return \"NO\"\n",
    "\n",
    "# to calculate the frequencies\n",
    "def freq_char(s):\n",
    "    d = {}\n",
    "    for c in s:\n",
    "        if c in d:\n",
    "            d[c] += 1\n",
    "        else:\n",
    "            d[c] = 1\n",
    "    return d\n",
    "\n",
    "# to Check if all frequencies are the same\n",
    "def equality(d):\n",
    "    freq_values = list(d.values())\n",
    "    if len(set(freq_values)) == 1:\n",
    "        return 1\n",
    "\n",
    " "
   ]
  },
  {
   "cell_type": "code",
   "execution_count": 18,
   "metadata": {},
   "outputs": [
    {
     "data": {
      "text/plain": [
       "'NO'"
      ]
     },
     "execution_count": 18,
     "metadata": {},
     "output_type": "execute_result"
    }
   ],
   "source": [
    "a=is_valid_string(\"abcabcabccc\")\n",
    "a"
   ]
  },
  {
   "cell_type": "markdown",
   "metadata": {},
   "source": [
    "The above example returns NO as output because it contains 3 a, 3 b and 5 c so clearly removing one c will not make equal frequency of each character of string."
   ]
  },
  {
   "cell_type": "code",
   "execution_count": 22,
   "metadata": {},
   "outputs": [
    {
     "data": {
      "text/plain": [
       "'YES'"
      ]
     },
     "execution_count": 22,
     "metadata": {},
     "output_type": "execute_result"
    }
   ],
   "source": [
    "a=is_valid_string(\"ababcab\")\n",
    "a"
   ]
  },
  {
   "cell_type": "markdown",
   "metadata": {},
   "source": [
    "The above example returns YES as output because it contains 3 a, 3 b and 1 c so clearly removing one c will make equal frequency of each character of string."
   ]
  }
 ],
 "metadata": {
  "kernelspec": {
   "display_name": "Python 3 (ipykernel)",
   "language": "python",
   "name": "python3"
  },
  "language_info": {
   "codemirror_mode": {
    "name": "ipython",
    "version": 3
   },
   "file_extension": ".py",
   "mimetype": "text/x-python",
   "name": "python",
   "nbconvert_exporter": "python",
   "pygments_lexer": "ipython3",
   "version": "3.9.7"
  }
 },
 "nbformat": 4,
 "nbformat_minor": 2
}
