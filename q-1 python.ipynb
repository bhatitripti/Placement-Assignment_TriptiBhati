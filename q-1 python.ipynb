{
 "cells": [
  {
   "cell_type": "markdown",
   "metadata": {},
   "source": [
    "# ineuron-python\n",
    "\n",
    "Use the \"Run\" button to execute the code."
   ]
  },
  {
   "cell_type": "markdown",
   "metadata": {},
   "source": [
    "Q.1. Write a program that takes a string as input, and counts the frequency of each word in the string, there might be repeated characters in the string. Your task is to find the highest frequency and returns the length of the\n",
    "highest-frequency word.\n",
    "\n",
    "Note - You have to write at least 2 additional test cases in which your programwill run successfully and provide an explanation for the same.\n",
    "Example input - string = “write write write all the number from from from 1 to 100” \n",
    "Example output - 5\n",
    "Explanation - From the given string we can note that the most frequent words are “write” and “from” and\n",
    "the maximum value of both the values is “write” and its corresponding length is 5"
   ]
  },
  {
   "cell_type": "code",
   "execution_count": 2,
   "metadata": {},
   "outputs": [],
   "source": [
    "def high_word_len(string):\n",
    "    # Split the string into words\n",
    "    words = string.split()\n",
    "\n",
    "    # using dict to Count the frequency of each word\n",
    "    d = {}\n",
    "    for word in words:\n",
    "        if word in d:\n",
    "            d[word] += 1\n",
    "        else:\n",
    "            d[word] = 1\n",
    "\n",
    "    # Find the highest frequency word\n",
    "    max_freq = 0\n",
    "    for word in d:\n",
    "        if d[word] > max_freq:\n",
    "            max_freq = d[word]\n",
    "\n",
    "    # Find the length of the highest-frequency word\n",
    "    max_word_len = 0\n",
    "    for word in d:\n",
    "        if d[word] == max_freq:\n",
    "            if len(word) > max_word_len:\n",
    "                max_word_len = len(word)\n",
    "\n",
    "    return max_word_len"
   ]
  },
  {
   "cell_type": "code",
   "execution_count": 6,
   "metadata": {},
   "outputs": [
    {
     "data": {
      "text/plain": [
       "2"
      ]
     },
     "execution_count": 6,
     "metadata": {},
     "output_type": "execute_result"
    }
   ],
   "source": [
    "high_word_len(\" i am what i am \")\n"
   ]
  },
  {
   "cell_type": "markdown",
   "metadata": {},
   "source": [
    "In above example both i and am came two times that means they have equal frequency but am has greater length i.e. 2 so output is 2"
   ]
  },
  {
   "cell_type": "code",
   "execution_count": 8,
   "metadata": {},
   "outputs": [
    {
     "data": {
      "text/plain": [
       "2"
      ]
     },
     "execution_count": 8,
     "metadata": {},
     "output_type": "execute_result"
    }
   ],
   "source": [
    "high_word_len(\"this is not the way what is going on \")"
   ]
  },
  {
   "cell_type": "markdown",
   "metadata": {},
   "source": [
    "in above example is came at two places and it's length is 2"
   ]
  }
 ],
 "metadata": {
  "kernelspec": {
   "display_name": "Python 3 (ipykernel)",
   "language": "python",
   "name": "python3"
  },
  "language_info": {
   "codemirror_mode": {
    "name": "ipython",
    "version": 3
   },
   "file_extension": ".py",
   "mimetype": "text/x-python",
   "name": "python",
   "nbconvert_exporter": "python",
   "pygments_lexer": "ipython3",
   "version": "3.9.7"
  }
 },
 "nbformat": 4,
 "nbformat_minor": 2
}
