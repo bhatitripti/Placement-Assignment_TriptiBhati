{
 "cells": [
  {
   "cell_type": "markdown",
   "id": "6d97ffed",
   "metadata": {},
   "source": [
    "Question 10 Write a program to count the number of verbs, nouns, pronouns, and adjectives in a given particular phrase or paragraph, and return their respective count as a dictionary. \n",
    "\n",
    "Note\n",
    "1. Write code comments wherever required for code\n",
    "\n",
    "2. You have to write at least 2 additional test cases in which your program will run successfully and provide\n",
    "an explanation for the same."
   ]
  },
  {
   "cell_type": "code",
   "execution_count": null,
   "id": "ccf4ac35",
   "metadata": {},
   "outputs": [],
   "source": [
    "pip install nltk"
   ]
  },
  {
   "cell_type": "code",
   "execution_count": 1,
   "id": "708bafd7",
   "metadata": {},
   "outputs": [
    {
     "name": "stderr",
     "output_type": "stream",
     "text": [
      "[nltk_data] Downloading package punkt to\n",
      "[nltk_data]     C:\\Users\\hp\\AppData\\Roaming\\nltk_data...\n",
      "[nltk_data]   Unzipping tokenizers\\punkt.zip.\n"
     ]
    },
    {
     "data": {
      "text/plain": [
       "True"
      ]
     },
     "execution_count": 1,
     "metadata": {},
     "output_type": "execute_result"
    }
   ],
   "source": [
    "import nltk\n",
    "nltk.download(\"punkt\")\n"
   ]
  },
  {
   "cell_type": "code",
   "execution_count": 9,
   "id": "9696aa45",
   "metadata": {},
   "outputs": [
    {
     "name": "stderr",
     "output_type": "stream",
     "text": [
      "[nltk_data] Downloading package averaged_perceptron_tagger to\n",
      "[nltk_data]     C:\\Users\\hp\\AppData\\Roaming\\nltk_data...\n",
      "[nltk_data]   Unzipping taggers\\averaged_perceptron_tagger.zip.\n"
     ]
    },
    {
     "data": {
      "text/plain": [
       "True"
      ]
     },
     "execution_count": 9,
     "metadata": {},
     "output_type": "execute_result"
    }
   ],
   "source": [
    "nltk.download('averaged_perceptron_tagger')"
   ]
  },
  {
   "cell_type": "code",
   "execution_count": 2,
   "id": "6542ca7f",
   "metadata": {},
   "outputs": [],
   "source": [
    "from collections import Counter"
   ]
  },
  {
   "cell_type": "code",
   "execution_count": 17,
   "id": "d07238f6",
   "metadata": {
    "scrolled": true
   },
   "outputs": [],
   "source": [
    "def count(phrase):\n",
    "    # Tokenize the text into sentences and then into words\n",
    "    \n",
    "    sentences = nltk.sent_tokenize(phrase)\n",
    "    words = nltk.word_tokenize(phrase)\n",
    "    # tagging parts of speech \n",
    "    \n",
    "    pos_tags = nltk.pos_tag(words)\n",
    "    pos_tags\n",
    "     \n",
    "    # Count the number of each part of speech\n",
    "    counts = Counter(tag for word, tag in pos_tags)\n",
    "    \n",
    "    # to get a dictionary containing the count of each part of speech\n",
    "    pos_counts = {\n",
    "            'verbs': counts['VB'] + counts['VBD'] + counts['VBG'] + counts['VBN'] + counts['VBP'] + counts['VBZ'],\n",
    "            'nouns': counts['NN'] + counts['NNS'] + counts['NNP'] + counts['NNPS'],\n",
    "            'pronouns': counts['PRP'] + counts['PRP$'] + counts['WP'] + counts['WP$'],\n",
    "            'adjectives': counts['JJ'] + counts['JJR'] + counts['JJS']\n",
    "        }\n",
    "    return (pos_counts)"
   ]
  },
  {
   "cell_type": "markdown",
   "id": "b831dc14",
   "metadata": {},
   "source": [
    "### Test cases"
   ]
  },
  {
   "cell_type": "code",
   "execution_count": 18,
   "id": "ec5a5423",
   "metadata": {},
   "outputs": [
    {
     "data": {
      "text/plain": [
       "{'verbs': 10, 'nouns': 15, 'pronouns': 8, 'adjectives': 0}"
      ]
     },
     "execution_count": 18,
     "metadata": {},
     "output_type": "execute_result"
    }
   ],
   "source": [
    "\n",
    "count(\"After dinner I wash up, sweep the floor, and tidy up a bit. Then I make phone calls, mark my students' work, do the laundry. Then I go on Facebook, or watch TV until about 10.30 when my son comes home. We catch up on our day, and at about 11 o'clock I go to bed.\")"
   ]
  },
  {
   "cell_type": "code",
   "execution_count": 21,
   "id": "e70830ef",
   "metadata": {},
   "outputs": [
    {
     "data": {
      "text/plain": [
       "{'verbs': 2, 'nouns': 2, 'pronouns': 2, 'adjectives': 2}"
      ]
     },
     "execution_count": 21,
     "metadata": {},
     "output_type": "execute_result"
    }
   ],
   "source": [
    "count(\"I am getting fat due to my daily routine.\")"
   ]
  },
  {
   "cell_type": "code",
   "execution_count": null,
   "id": "c8f4841a",
   "metadata": {},
   "outputs": [],
   "source": []
  }
 ],
 "metadata": {
  "kernelspec": {
   "display_name": "Python 3 (ipykernel)",
   "language": "python",
   "name": "python3"
  },
  "language_info": {
   "codemirror_mode": {
    "name": "ipython",
    "version": 3
   },
   "file_extension": ".py",
   "mimetype": "text/x-python",
   "name": "python",
   "nbconvert_exporter": "python",
   "pygments_lexer": "ipython3",
   "version": "3.9.7"
  }
 },
 "nbformat": 4,
 "nbformat_minor": 5
}
