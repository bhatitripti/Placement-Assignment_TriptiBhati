{
 "cells": [
  {
   "cell_type": "markdown",
   "id": "23fe5213",
   "metadata": {},
   "source": [
    "Q-10. A factory produces light bulbs, and the probability of a bulb being defective is 0.05. The factory produces a large batch of 500 light bulbs. a. What is the probability that exactly 20 bulbs are defective? b. What is the probability that at least 10 bulbs are defective? c. What is the probability that at max 15 bulbs are defective? d. On average, how many defective bulbs would you expect in a batch of 500?\n",
    "\n"
   ]
  },
  {
   "cell_type": "code",
   "execution_count": 6,
   "id": "505725de",
   "metadata": {},
   "outputs": [],
   "source": [
    "from scipy.stats import binom"
   ]
  },
  {
   "cell_type": "markdown",
   "id": "54cc67ce",
   "metadata": {},
   "source": [
    "### a. Probability that exactly 20 bulbs are defective"
   ]
  },
  {
   "cell_type": "code",
   "execution_count": 7,
   "id": "8723b142",
   "metadata": {},
   "outputs": [
    {
     "name": "stdout",
     "output_type": "stream",
     "text": [
      "Probability that exactly 20 bulbs are defective: 0.051616192536642215\n"
     ]
    }
   ],
   "source": [
    "n = 500\n",
    "p = 0.05\n",
    "k = 20\n",
    "prob_20 = binom.pmf(k, n, p)\n",
    "print(\"Probability that exactly 20 bulbs are defective:\", prob_20)"
   ]
  },
  {
   "cell_type": "markdown",
   "id": "1f9e69b6",
   "metadata": {},
   "source": [
    "### b. Probability that at least 10 bulbs are defective\n"
   ]
  },
  {
   "cell_type": "code",
   "execution_count": 8,
   "id": "4d002b76",
   "metadata": {},
   "outputs": [
    {
     "name": "stdout",
     "output_type": "stream",
     "text": [
      "Probability that at least 10 bulbs are defective: 0.9998316463654902\n"
     ]
    }
   ],
   "source": [
    "k = 10\n",
    "prob_10 = 1 - binom.cdf(k-1, n, p)\n",
    "print(\"Probability that at least 10 bulbs are defective:\", prob_10)"
   ]
  },
  {
   "cell_type": "markdown",
   "id": "e57f02b8",
   "metadata": {},
   "source": [
    "### c. Probability that at max 15 bulbs are defective\n",
    "\n",
    "\n"
   ]
  },
  {
   "cell_type": "code",
   "execution_count": 9,
   "id": "4a8d69b0",
   "metadata": {},
   "outputs": [
    {
     "name": "stdout",
     "output_type": "stream",
     "text": [
      "Probability that at max 15 bulbs are defective: 0.01985837716299813\n"
     ]
    }
   ],
   "source": [
    "k = 15\n",
    "prob_15 = binom.cdf(k, n, p)\n",
    "print(\"Probability that at max 15 bulbs are defective:\", prob_15)"
   ]
  },
  {
   "cell_type": "markdown",
   "id": "7e04d1db",
   "metadata": {},
   "source": [
    "###  d. On average, how many defective bulbs would you expect in a batch of 500?"
   ]
  },
  {
   "cell_type": "code",
   "execution_count": 5,
   "id": "54997978",
   "metadata": {},
   "outputs": [
    {
     "name": "stdout",
     "output_type": "stream",
     "text": [
      "d. On average, number of defective bulbs: 25.0\n"
     ]
    }
   ],
   "source": [
    "mean = n * p\n",
    "print(\"On average, number of defective bulbs:\", mean)"
   ]
  },
  {
   "cell_type": "code",
   "execution_count": null,
   "id": "7acf364c",
   "metadata": {},
   "outputs": [],
   "source": []
  }
 ],
 "metadata": {
  "kernelspec": {
   "display_name": "Python 3 (ipykernel)",
   "language": "python",
   "name": "python3"
  },
  "language_info": {
   "codemirror_mode": {
    "name": "ipython",
    "version": 3
   },
   "file_extension": ".py",
   "mimetype": "text/x-python",
   "name": "python",
   "nbconvert_exporter": "python",
   "pygments_lexer": "ipython3",
   "version": "3.9.7"
  }
 },
 "nbformat": 4,
 "nbformat_minor": 5
}
