{
 "cells": [
  {
   "cell_type": "markdown",
   "id": "f71744c3",
   "metadata": {},
   "source": [
    "Q-9. Given the score of students in multiple exams Test the hypothesis that the mean scores of all the students are the same. If not, name the student with the highest score.\n"
   ]
  },
  {
   "cell_type": "code",
   "execution_count": 29,
   "id": "908f1296",
   "metadata": {},
   "outputs": [],
   "source": [
    "import numpy as np\n",
    "from scipy.stats import f_oneway"
   ]
  },
  {
   "cell_type": "code",
   "execution_count": 30,
   "id": "d955b6af",
   "metadata": {},
   "outputs": [],
   "source": [
    "# Dataset\n",
    "ds= {\n",
    "    'karan': [85, 90, 92],\n",
    "    'deepa': [70, 80, 85],\n",
    "    'karthik': [90, 85, 88],\n",
    "    'chandan': [75, 70, 75],\n",
    "    'jeevan': [95, 92, 96]\n",
    "}"
   ]
  },
  {
   "cell_type": "code",
   "execution_count": 36,
   "id": "3f4884d0",
   "metadata": {},
   "outputs": [
    {
     "name": "stdout",
     "output_type": "stream",
     "text": [
      "mean_scores:\n"
     ]
    },
    {
     "data": {
      "text/plain": [
       "{'karan': 89.0,\n",
       " 'deepa': 78.33333333333333,\n",
       " 'karthik': 87.66666666666667,\n",
       " 'chandan': 73.33333333333333,\n",
       " 'jeevan': 94.33333333333333}"
      ]
     },
     "execution_count": 36,
     "metadata": {},
     "output_type": "execute_result"
    }
   ],
   "source": [
    "# Calculating avg scores of each student \n",
    "mean_scores = {name: np.mean(scores) for name, scores in ds.items()}\n",
    "print(\"mean_scores:\")\n",
    "mean_scores"
   ]
  },
  {
   "cell_type": "code",
   "execution_count": 32,
   "id": "468a2267",
   "metadata": {},
   "outputs": [
    {
     "data": {
      "text/plain": [
       "(12.025830258302586, 0.0007760917135044952)"
      ]
     },
     "execution_count": 32,
     "metadata": {},
     "output_type": "execute_result"
    }
   ],
   "source": [
    "# calculating p value\n",
    "scores = [scores for scores in ds.values()]\n",
    "f_stat, p_value = f_oneway(*scores)\n",
    "f_stat, p_value"
   ]
  },
  {
   "cell_type": "markdown",
   "id": "e2aeebba",
   "metadata": {},
   "source": [
    "#### It is clear that p-value is less than 0.05 so The mean scores of all the students are not same. Now computing student name with highest score "
   ]
  },
  {
   "cell_type": "code",
   "execution_count": 37,
   "id": "a054e672",
   "metadata": {},
   "outputs": [
    {
     "data": {
      "text/plain": [
       "'jeevan'"
      ]
     },
     "execution_count": 37,
     "metadata": {},
     "output_type": "execute_result"
    }
   ],
   "source": [
    "stud_high = max(mean_scores, key=mean_scores.get)\n",
    "stud_high\n"
   ]
  },
  {
   "cell_type": "markdown",
   "id": "fa83356a",
   "metadata": {},
   "source": [
    "## Hence jeevan holds the highest score"
   ]
  }
 ],
 "metadata": {
  "kernelspec": {
   "display_name": "Python 3 (ipykernel)",
   "language": "python",
   "name": "python3"
  },
  "language_info": {
   "codemirror_mode": {
    "name": "ipython",
    "version": 3
   },
   "file_extension": ".py",
   "mimetype": "text/x-python",
   "name": "python",
   "nbconvert_exporter": "python",
   "pygments_lexer": "ipython3",
   "version": "3.9.7"
  }
 },
 "nbformat": 4,
 "nbformat_minor": 5
}
