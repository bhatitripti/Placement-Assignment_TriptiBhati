{
 "cells": [
  {
   "cell_type": "markdown",
   "id": "94aa688d",
   "metadata": {},
   "source": [
    "Q-3. Consider the ‘Blood Pressure Before’ and ‘Blood Pressure After’ columns from the data and calculate the following\n",
    "https://drive.google.com/file/d/1mCjtYHiX--mMUjicuaP2gH3k-SnFxt8Y/view?usp=share_\n",
    "a. Measure the dispersion in both and interpret the results. \n",
    "b. Calculate mean and 5% confidence interval and plot it in a graph \n",
    "c. Calculate the Mean absolute deviation and Standard deviation and interpret the results. \n",
    "d. Calculate the correlation coefficient and check the significance of it at 1% level\n",
    "of significance."
   ]
  },
  {
   "cell_type": "code",
   "execution_count": 13,
   "id": "27e4a208",
   "metadata": {},
   "outputs": [],
   "source": [
    "import pandas as pd\n",
    "import numpy as np"
   ]
  },
  {
   "cell_type": "code",
   "execution_count": 23,
   "id": "aaba26d1",
   "metadata": {},
   "outputs": [],
   "source": [
    "import scipy.stats as stats\n",
    "import matplotlib.pyplot as plt"
   ]
  },
  {
   "cell_type": "code",
   "execution_count": 5,
   "id": "a59a4e9a",
   "metadata": {},
   "outputs": [
    {
     "data": {
      "text/html": [
       "<div>\n",
       "<style scoped>\n",
       "    .dataframe tbody tr th:only-of-type {\n",
       "        vertical-align: middle;\n",
       "    }\n",
       "\n",
       "    .dataframe tbody tr th {\n",
       "        vertical-align: top;\n",
       "    }\n",
       "\n",
       "    .dataframe thead th {\n",
       "        text-align: right;\n",
       "    }\n",
       "</style>\n",
       "<table border=\"1\" class=\"dataframe\">\n",
       "  <thead>\n",
       "    <tr style=\"text-align: right;\">\n",
       "      <th></th>\n",
       "      <th>Patient ID</th>\n",
       "      <th>Blood Pressure Before (mmHg)</th>\n",
       "      <th>Blood Pressure After (mmHg)</th>\n",
       "    </tr>\n",
       "  </thead>\n",
       "  <tbody>\n",
       "    <tr>\n",
       "      <th>0</th>\n",
       "      <td>1</td>\n",
       "      <td>130</td>\n",
       "      <td>120</td>\n",
       "    </tr>\n",
       "    <tr>\n",
       "      <th>1</th>\n",
       "      <td>2</td>\n",
       "      <td>142</td>\n",
       "      <td>135</td>\n",
       "    </tr>\n",
       "    <tr>\n",
       "      <th>2</th>\n",
       "      <td>3</td>\n",
       "      <td>120</td>\n",
       "      <td>118</td>\n",
       "    </tr>\n",
       "    <tr>\n",
       "      <th>3</th>\n",
       "      <td>4</td>\n",
       "      <td>135</td>\n",
       "      <td>127</td>\n",
       "    </tr>\n",
       "    <tr>\n",
       "      <th>4</th>\n",
       "      <td>5</td>\n",
       "      <td>148</td>\n",
       "      <td>140</td>\n",
       "    </tr>\n",
       "    <tr>\n",
       "      <th>...</th>\n",
       "      <td>...</td>\n",
       "      <td>...</td>\n",
       "      <td>...</td>\n",
       "    </tr>\n",
       "    <tr>\n",
       "      <th>95</th>\n",
       "      <td>96</td>\n",
       "      <td>136</td>\n",
       "      <td>129</td>\n",
       "    </tr>\n",
       "    <tr>\n",
       "      <th>96</th>\n",
       "      <td>97</td>\n",
       "      <td>143</td>\n",
       "      <td>137</td>\n",
       "    </tr>\n",
       "    <tr>\n",
       "      <th>97</th>\n",
       "      <td>98</td>\n",
       "      <td>127</td>\n",
       "      <td>123</td>\n",
       "    </tr>\n",
       "    <tr>\n",
       "      <th>98</th>\n",
       "      <td>99</td>\n",
       "      <td>139</td>\n",
       "      <td>135</td>\n",
       "    </tr>\n",
       "    <tr>\n",
       "      <th>99</th>\n",
       "      <td>100</td>\n",
       "      <td>135</td>\n",
       "      <td>130</td>\n",
       "    </tr>\n",
       "  </tbody>\n",
       "</table>\n",
       "<p>100 rows × 3 columns</p>\n",
       "</div>"
      ],
      "text/plain": [
       "    Patient ID   Blood Pressure Before (mmHg)   Blood Pressure After (mmHg)\n",
       "0            1                            130                           120\n",
       "1            2                            142                           135\n",
       "2            3                            120                           118\n",
       "3            4                            135                           127\n",
       "4            5                            148                           140\n",
       "..         ...                            ...                           ...\n",
       "95          96                            136                           129\n",
       "96          97                            143                           137\n",
       "97          98                            127                           123\n",
       "98          99                            139                           135\n",
       "99         100                            135                           130\n",
       "\n",
       "[100 rows x 3 columns]"
      ]
     },
     "execution_count": 5,
     "metadata": {},
     "output_type": "execute_result"
    }
   ],
   "source": [
    "df = pd.read_csv('data.csv')\n",
    "df"
   ]
  },
  {
   "cell_type": "code",
   "execution_count": 6,
   "id": "624f5332",
   "metadata": {},
   "outputs": [
    {
     "data": {
      "text/plain": [
       "0     130\n",
       "1     142\n",
       "2     120\n",
       "3     135\n",
       "4     148\n",
       "     ... \n",
       "95    136\n",
       "96    143\n",
       "97    127\n",
       "98    139\n",
       "99    135\n",
       "Name:  Blood Pressure Before (mmHg), Length: 100, dtype: int64"
      ]
     },
     "execution_count": 6,
     "metadata": {},
     "output_type": "execute_result"
    }
   ],
   "source": [
    "df[' Blood Pressure Before (mmHg)']"
   ]
  },
  {
   "cell_type": "code",
   "execution_count": 7,
   "id": "58f0b8b3",
   "metadata": {},
   "outputs": [
    {
     "data": {
      "text/html": [
       "<div>\n",
       "<style scoped>\n",
       "    .dataframe tbody tr th:only-of-type {\n",
       "        vertical-align: middle;\n",
       "    }\n",
       "\n",
       "    .dataframe tbody tr th {\n",
       "        vertical-align: top;\n",
       "    }\n",
       "\n",
       "    .dataframe thead th {\n",
       "        text-align: right;\n",
       "    }\n",
       "</style>\n",
       "<table border=\"1\" class=\"dataframe\">\n",
       "  <thead>\n",
       "    <tr style=\"text-align: right;\">\n",
       "      <th></th>\n",
       "      <th>Patient ID</th>\n",
       "      <th>Blood Pressure Before (mmHg)</th>\n",
       "      <th>Blood Pressure After (mmHg)</th>\n",
       "    </tr>\n",
       "  </thead>\n",
       "  <tbody>\n",
       "    <tr>\n",
       "      <th>count</th>\n",
       "      <td>100.000000</td>\n",
       "      <td>100.000000</td>\n",
       "      <td>100.000000</td>\n",
       "    </tr>\n",
       "    <tr>\n",
       "      <th>mean</th>\n",
       "      <td>50.500000</td>\n",
       "      <td>133.910000</td>\n",
       "      <td>128.360000</td>\n",
       "    </tr>\n",
       "    <tr>\n",
       "      <th>std</th>\n",
       "      <td>29.011492</td>\n",
       "      <td>6.598278</td>\n",
       "      <td>6.888022</td>\n",
       "    </tr>\n",
       "    <tr>\n",
       "      <th>min</th>\n",
       "      <td>1.000000</td>\n",
       "      <td>120.000000</td>\n",
       "      <td>118.000000</td>\n",
       "    </tr>\n",
       "    <tr>\n",
       "      <th>25%</th>\n",
       "      <td>25.750000</td>\n",
       "      <td>128.000000</td>\n",
       "      <td>123.000000</td>\n",
       "    </tr>\n",
       "    <tr>\n",
       "      <th>50%</th>\n",
       "      <td>50.500000</td>\n",
       "      <td>135.000000</td>\n",
       "      <td>128.000000</td>\n",
       "    </tr>\n",
       "    <tr>\n",
       "      <th>75%</th>\n",
       "      <td>75.250000</td>\n",
       "      <td>139.250000</td>\n",
       "      <td>135.000000</td>\n",
       "    </tr>\n",
       "    <tr>\n",
       "      <th>max</th>\n",
       "      <td>100.000000</td>\n",
       "      <td>148.000000</td>\n",
       "      <td>141.000000</td>\n",
       "    </tr>\n",
       "  </tbody>\n",
       "</table>\n",
       "</div>"
      ],
      "text/plain": [
       "       Patient ID   Blood Pressure Before (mmHg)   Blood Pressure After (mmHg)\n",
       "count  100.000000                     100.000000                    100.000000\n",
       "mean    50.500000                     133.910000                    128.360000\n",
       "std     29.011492                       6.598278                      6.888022\n",
       "min      1.000000                     120.000000                    118.000000\n",
       "25%     25.750000                     128.000000                    123.000000\n",
       "50%     50.500000                     135.000000                    128.000000\n",
       "75%     75.250000                     139.250000                    135.000000\n",
       "max    100.000000                     148.000000                    141.000000"
      ]
     },
     "execution_count": 7,
     "metadata": {},
     "output_type": "execute_result"
    }
   ],
   "source": [
    "df.describe()"
   ]
  },
  {
   "cell_type": "code",
   "execution_count": 8,
   "id": "c91bf6d5",
   "metadata": {},
   "outputs": [
    {
     "data": {
      "text/plain": [
       "28"
      ]
     },
     "execution_count": 8,
     "metadata": {},
     "output_type": "execute_result"
    }
   ],
   "source": [
    "range_before = df[' Blood Pressure Before (mmHg)'].max() - df[' Blood Pressure Before (mmHg)'].min()\n",
    "range_before"
   ]
  },
  {
   "cell_type": "code",
   "execution_count": 10,
   "id": "2919c288",
   "metadata": {},
   "outputs": [
    {
     "data": {
      "text/plain": [
       "23"
      ]
     },
     "execution_count": 10,
     "metadata": {},
     "output_type": "execute_result"
    }
   ],
   "source": [
    "range_after = df[' Blood Pressure After (mmHg)'].max() - df[' Blood Pressure After (mmHg)'].min()\n",
    "range_after"
   ]
  },
  {
   "cell_type": "code",
   "execution_count": 11,
   "id": "48107bcd",
   "metadata": {},
   "outputs": [
    {
     "data": {
      "text/plain": [
       "43.53727272727271"
      ]
     },
     "execution_count": 11,
     "metadata": {},
     "output_type": "execute_result"
    }
   ],
   "source": [
    "variance_before = df[' Blood Pressure Before (mmHg)'].var()\n",
    "variance_before"
   ]
  },
  {
   "cell_type": "code",
   "execution_count": 12,
   "id": "b132270c",
   "metadata": {},
   "outputs": [
    {
     "data": {
      "text/plain": [
       "47.4448484848485"
      ]
     },
     "execution_count": 12,
     "metadata": {},
     "output_type": "execute_result"
    }
   ],
   "source": [
    "variance_after = df[' Blood Pressure After (mmHg)'].var()\n",
    "variance_after"
   ]
  },
  {
   "cell_type": "markdown",
   "id": "aafecc07",
   "metadata": {},
   "source": [
    "#### Interpretation of result\n",
    "\n",
    "BP measured after has less varaibility as conpared to BP before as the range is reduced. This may also mean that BP after tends to move towards normal range which is 120 mmHg\n",
    "BP after deviates more around the mean than BP before as the variance of BP after is higher"
   ]
  },
  {
   "cell_type": "markdown",
   "id": "d6e91048",
   "metadata": {},
   "source": [
    "#### a. Measure the dispersion in both and interpret the results"
   ]
  },
  {
   "cell_type": "code",
   "execution_count": 20,
   "id": "0531ce98",
   "metadata": {
    "scrolled": true
   },
   "outputs": [
    {
     "name": "stdout",
     "output_type": "stream",
     "text": [
      "Dispersion in Blood Pressure Before: 43.10189999999998\n",
      "Dispersion in Blood Pressure After: 43.10189999999998\n"
     ]
    }
   ],
   "source": [
    "dispersion_before = np.var(df[' Blood Pressure Before (mmHg)'])\n",
    "dispersion_after = np.var(df[' Blood Pressure Before (mmHg)'])\n",
    "print(\"Dispersion in Blood Pressure Before:\", dispersion_before)\n",
    "print(\"Dispersion in Blood Pressure After:\", dispersion_after)"
   ]
  },
  {
   "cell_type": "markdown",
   "id": "6c9657cc",
   "metadata": {},
   "source": [
    "#### b. Calculate mean and 5% confidence interval and plot it in a graph"
   ]
  },
  {
   "cell_type": "code",
   "execution_count": 25,
   "id": "e9391ea4",
   "metadata": {},
   "outputs": [
    {
     "name": "stdout",
     "output_type": "stream",
     "text": [
      "Mean of Blood Pressure Before: 133.91\n",
      "5% Confidence Interval of Blood Pressure Before: (132.60075849172767, 135.21924150827232)\n"
     ]
    }
   ],
   "source": [
    "mean_before = np.mean(df[' Blood Pressure Before (mmHg)'])\n",
    "mean_after = np.mean(df[' Blood Pressure After (mmHg)'])\n",
    "confidence_interval = stats.t.interval(0.95, len(df)-1, loc=mean_before, scale=stats.sem(df[' Blood Pressure Before (mmHg)']))\n",
    "print(\"Mean of Blood Pressure Before:\", mean_before)\n",
    "print(\"5% Confidence Interval of Blood Pressure Before:\", confidence_interval)"
   ]
  },
  {
   "cell_type": "code",
   "execution_count": 35,
   "id": "9b064c3d",
   "metadata": {},
   "outputs": [
    {
     "data": {
      "image/png": "[encoded data removed]",
      "text/plain": [
       "<Figure size 432x288 with 1 Axes>"
      ]
     },
     "metadata": {
      "needs_background": "light"
     },
     "output_type": "display_data"
    }
   ],
   "source": [
    "# Plotting the graph\n",
    "plt.errorbar(x=1, y=mean_before, yerr=(confidence_interval[1] - mean_before), fmt='o', label='Mean')\n",
    "plt.axhline(mean_before, color='g')\n",
    "plt.xticks([], [])\n",
    "plt.ylabel('Blood Pressure Before (mmHg)')\n",
    "plt.legend()\n",
    "plt.show()"
   ]
  },
  {
   "cell_type": "markdown",
   "id": "d0517aad",
   "metadata": {},
   "source": [
    "#### c. Calculating the Mean absolute deviation and Standard deviation and interpret the results"
   ]
  },
  {
   "cell_type": "code",
   "execution_count": 39,
   "id": "32ec2c79",
   "metadata": {},
   "outputs": [
    {
     "name": "stdout",
     "output_type": "stream",
     "text": [
      "Mean Absolute Deviation of Blood Pressure Before: 5.7118\n",
      "Mean Absolute Deviation of Blood Pressure After: 5.9\n",
      "Standard Deviation of Blood Pressure Before: 6.5652037287505385\n",
      "Standard Deviation of Blood Pressure After: 6.853495458523338\n"
     ]
    }
   ],
   "source": [
    "mad_bf = np.mean(np.abs(df[' Blood Pressure Before (mmHg)'] - np.mean(df[' Blood Pressure Before (mmHg)'])))\n",
    "mad_af = np.mean(np.abs(df[' Blood Pressure After (mmHg)'] - np.mean(df[' Blood Pressure After (mmHg)'])))\n",
    "std_dev_bf = np.std(df[' Blood Pressure Before (mmHg)'])\n",
    "std_dev_af = np.std(df[' Blood Pressure After (mmHg)'])\n",
    "print(\"Mean Absolute Deviation of Blood Pressure Before:\", mad_bf)\n",
    "print(\"Mean Absolute Deviation of Blood Pressure After:\", mad_af)\n",
    "print(\"Standard Deviation of Blood Pressure Before:\", std_dev_bf)\n",
    "print(\"Standard Deviation of Blood Pressure After:\", std_dev_af)"
   ]
  },
  {
   "cell_type": "markdown",
   "id": "3ba5b3f0",
   "metadata": {},
   "source": [
    "#### d. Calculate the correlation coefficient and check the significance at 1% level of significance"
   ]
  },
  {
   "cell_type": "code",
   "execution_count": 38,
   "id": "d6c841d4",
   "metadata": {},
   "outputs": [
    {
     "name": "stdout",
     "output_type": "stream",
     "text": [
      "Correlation Coefficient: 0.9779485966556023\n",
      "p-value: 1.8097381433050877e-68\n",
      "Correlation is significant at 1% level of significance.\n"
     ]
    }
   ],
   "source": [
    "correl_cof, p_value = stats.pearsonr(df[' Blood Pressure Before (mmHg)'], df[' Blood Pressure After (mmHg)'])\n",
    "print(\"Correlation Coefficient:\", correl_cof)\n",
    "print(\"p-value:\", p_value)\n",
    "if p_value < 0.01:\n",
    "    print(\"Correlation is significant at 1% level of significance.\")\n",
    "else:\n",
    "    print(\"Correlation is not significant at 1% level of significance.\")"
   ]
  },
  {
   "cell_type": "code",
   "execution_count": null,
   "id": "da1c9042",
   "metadata": {},
   "outputs": [],
   "source": []
  }
 ],
 "metadata": {
  "kernelspec": {
   "display_name": "Python 3 (ipykernel)",
   "language": "python",
   "name": "python3"
  },
  "language_info": {
   "codemirror_mode": {
    "name": "ipython",
    "version": 3
   },
   "file_extension": ".py",
   "mimetype": "text/x-python",
   "name": "python",
   "nbconvert_exporter": "python",
   "pygments_lexer": "ipython3",
   "version": "3.9.7"
  }
 },
 "nbformat": 4,
 "nbformat_minor": 5
}
